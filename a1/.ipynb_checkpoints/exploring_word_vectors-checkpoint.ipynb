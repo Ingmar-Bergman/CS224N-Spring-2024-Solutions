{
 "cells": [
  {
   "cell_type": "markdown",
   "metadata": {
    "id": "3HqK14JLSStR"
   },
   "source": [
    "# CS224N Assignment 1: Exploring Word Vectors (25 Points)\n",
    "### <font color='blue'> Due 4:30pm, Tue April 9th 2024</font>\n",
    "\n",
    "Welcome to CS224N! \n",
    "\n",
    "Before you start, make sure you **read the README.md** in the same directory as this notebook for important setup information. You need to install some Python libraries before you can successfully do this assignment. A lot of code is provided in this notebook, and we highly encourage you to read and understand it as part of the learning :)\n",
    "\n",
    "If you aren't super familiar with Python, Numpy, or Matplotlib, we recommend you check out the review session on Friday. The session will be recorded and the material will be made available on our [website](http://web.stanford.edu/class/cs224n/index.html#schedule). The CS231N Python/Numpy [tutorial](https://cs231n.github.io/python-numpy-tutorial/) is also a great resource.\n",
    "\n",
    "\n",
    "**Assignment Notes:** Please make sure to save the notebook as you go along. Submission Instructions are located at the bottom of the notebook."
   ]
  },
  {
   "cell_type": "code",
   "execution_count": 1,
   "metadata": {},
   "outputs": [
    {
     "name": "stdout",
     "output_type": "stream",
     "text": [
      "Requirement already satisfied: gensim in c:\\users\\yoann\\appdata\\local\\programs\\python\\python39\\lib\\site-packages (4.3.3)\n",
      "Requirement already satisfied: numpy<2.0,>=1.18.5 in c:\\users\\yoann\\appdata\\local\\programs\\python\\python39\\lib\\site-packages (from gensim) (1.26.4)\n",
      "Requirement already satisfied: scipy<1.14.0,>=1.7.0 in c:\\users\\yoann\\appdata\\local\\programs\\python\\python39\\lib\\site-packages (from gensim) (1.13.1)\n",
      "Requirement already satisfied: smart-open>=1.8.1 in c:\\users\\yoann\\appdata\\local\\programs\\python\\python39\\lib\\site-packages (from gensim) (7.0.4)\n",
      "Requirement already satisfied: wrapt in c:\\users\\yoann\\appdata\\local\\programs\\python\\python39\\lib\\site-packages (from smart-open>=1.8.1->gensim) (1.16.0)\n",
      "Note: you may need to restart the kernel to use updated packages.\n"
     ]
    },
    {
     "name": "stderr",
     "output_type": "stream",
     "text": [
      "WARNING: Ignoring invalid distribution -yspark (c:\\users\\yoann\\appdata\\local\\programs\\python\\python39\\lib\\site-packages)\n",
      "WARNING: Ignoring invalid distribution -yspark (c:\\users\\yoann\\appdata\\local\\programs\\python\\python39\\lib\\site-packages)\n",
      "\n",
      "[notice] A new release of pip is available: 24.1 -> 24.2\n",
      "[notice] To update, run: c:\\users\\yoann\\appdata\\local\\programs\\python\\python39\\python.exe -m pip install --upgrade pip\n"
     ]
    }
   ],
   "source": [
    "pip install gensim"
   ]
  },
  {
   "cell_type": "code",
   "execution_count": 2,
   "metadata": {},
   "outputs": [
    {
     "name": "stdout",
     "output_type": "stream",
     "text": [
      "Requirement already satisfied: datasets==2.18.0 in c:\\users\\yoann\\appdata\\local\\programs\\python\\python39\\lib\\site-packages (2.18.0)\n",
      "Requirement already satisfied: filelock in c:\\users\\yoann\\appdata\\local\\programs\\python\\python39\\lib\\site-packages (from datasets==2.18.0) (3.13.3)\n",
      "Requirement already satisfied: numpy>=1.17 in c:\\users\\yoann\\appdata\\local\\programs\\python\\python39\\lib\\site-packages (from datasets==2.18.0) (1.26.4)\n",
      "Requirement already satisfied: pyarrow>=12.0.0 in c:\\users\\yoann\\appdata\\local\\programs\\python\\python39\\lib\\site-packages (from datasets==2.18.0) (17.0.0)\n",
      "Requirement already satisfied: pyarrow-hotfix in c:\\users\\yoann\\appdata\\local\\programs\\python\\python39\\lib\\site-packages (from datasets==2.18.0) (0.6)\n",
      "Requirement already satisfied: dill<0.3.9,>=0.3.0 in c:\\users\\yoann\\appdata\\local\\programs\\python\\python39\\lib\\site-packages (from datasets==2.18.0) (0.3.8)\n",
      "Requirement already satisfied: pandas in c:\\users\\yoann\\appdata\\local\\programs\\python\\python39\\lib\\site-packages (from datasets==2.18.0) (2.1.1)\n",
      "Requirement already satisfied: requests>=2.19.0 in c:\\users\\yoann\\appdata\\local\\programs\\python\\python39\\lib\\site-packages (from datasets==2.18.0) (2.32.3)\n",
      "Requirement already satisfied: tqdm>=4.62.1 in c:\\users\\yoann\\appdata\\local\\programs\\python\\python39\\lib\\site-packages (from datasets==2.18.0) (4.66.1)\n",
      "Requirement already satisfied: xxhash in c:\\users\\yoann\\appdata\\local\\programs\\python\\python39\\lib\\site-packages (from datasets==2.18.0) (3.5.0)\n",
      "Requirement already satisfied: multiprocess in c:\\users\\yoann\\appdata\\local\\programs\\python\\python39\\lib\\site-packages (from datasets==2.18.0) (0.70.16)\n",
      "Requirement already satisfied: fsspec<=2024.2.0,>=2023.1.0 in c:\\users\\yoann\\appdata\\local\\programs\\python\\python39\\lib\\site-packages (from fsspec[http]<=2024.2.0,>=2023.1.0->datasets==2.18.0) (2024.2.0)\n",
      "Requirement already satisfied: aiohttp in c:\\users\\yoann\\appdata\\local\\programs\\python\\python39\\lib\\site-packages (from datasets==2.18.0) (3.10.5)\n",
      "Requirement already satisfied: huggingface-hub>=0.19.4 in c:\\users\\yoann\\appdata\\local\\programs\\python\\python39\\lib\\site-packages (from datasets==2.18.0) (0.24.7)\n",
      "Requirement already satisfied: packaging in c:\\users\\yoann\\appdata\\local\\programs\\python\\python39\\lib\\site-packages (from datasets==2.18.0) (24.1)\n",
      "Requirement already satisfied: pyyaml>=5.1 in c:\\users\\yoann\\appdata\\local\\programs\\python\\python39\\lib\\site-packages (from datasets==2.18.0) (6.0.1)\n",
      "Requirement already satisfied: aiohappyeyeballs>=2.3.0 in c:\\users\\yoann\\appdata\\local\\programs\\python\\python39\\lib\\site-packages (from aiohttp->datasets==2.18.0) (2.4.0)\n",
      "Requirement already satisfied: aiosignal>=1.1.2 in c:\\users\\yoann\\appdata\\local\\programs\\python\\python39\\lib\\site-packages (from aiohttp->datasets==2.18.0) (1.3.1)\n",
      "Requirement already satisfied: attrs>=17.3.0 in c:\\users\\yoann\\appdata\\local\\programs\\python\\python39\\lib\\site-packages (from aiohttp->datasets==2.18.0) (23.1.0)\n",
      "Requirement already satisfied: frozenlist>=1.1.1 in c:\\users\\yoann\\appdata\\local\\programs\\python\\python39\\lib\\site-packages (from aiohttp->datasets==2.18.0) (1.4.1)\n",
      "Requirement already satisfied: multidict<7.0,>=4.5 in c:\\users\\yoann\\appdata\\local\\programs\\python\\python39\\lib\\site-packages (from aiohttp->datasets==2.18.0) (6.1.0)\n",
      "Requirement already satisfied: yarl<2.0,>=1.0 in c:\\users\\yoann\\appdata\\local\\programs\\python\\python39\\lib\\site-packages (from aiohttp->datasets==2.18.0) (1.11.1)\n",
      "Requirement already satisfied: async-timeout<5.0,>=4.0 in c:\\users\\yoann\\appdata\\local\\programs\\python\\python39\\lib\\site-packages (from aiohttp->datasets==2.18.0) (4.0.3)\n",
      "Requirement already satisfied: typing-extensions>=3.7.4.3 in c:\\users\\yoann\\appdata\\local\\programs\\python\\python39\\lib\\site-packages (from huggingface-hub>=0.19.4->datasets==2.18.0) (4.12.2)\n",
      "Requirement already satisfied: charset-normalizer<4,>=2 in c:\\users\\yoann\\appdata\\local\\programs\\python\\python39\\lib\\site-packages (from requests>=2.19.0->datasets==2.18.0) (3.3.2)\n",
      "Requirement already satisfied: idna<4,>=2.5 in c:\\users\\yoann\\appdata\\local\\programs\\python\\python39\\lib\\site-packages (from requests>=2.19.0->datasets==2.18.0) (3.7)\n",
      "Requirement already satisfied: urllib3<3,>=1.21.1 in c:\\users\\yoann\\appdata\\local\\programs\\python\\python39\\lib\\site-packages (from requests>=2.19.0->datasets==2.18.0) (2.2.2)\n",
      "Requirement already satisfied: certifi>=2017.4.17 in c:\\users\\yoann\\appdata\\local\\programs\\python\\python39\\lib\\site-packages (from requests>=2.19.0->datasets==2.18.0) (2024.6.2)\n",
      "Requirement already satisfied: colorama in c:\\users\\yoann\\appdata\\local\\programs\\python\\python39\\lib\\site-packages (from tqdm>=4.62.1->datasets==2.18.0) (0.4.6)\n",
      "Requirement already satisfied: python-dateutil>=2.8.2 in c:\\users\\yoann\\appdata\\local\\programs\\python\\python39\\lib\\site-packages (from pandas->datasets==2.18.0) (2.8.2)\n",
      "Requirement already satisfied: pytz>=2020.1 in c:\\users\\yoann\\appdata\\local\\programs\\python\\python39\\lib\\site-packages (from pandas->datasets==2.18.0) (2023.3.post1)\n",
      "Requirement already satisfied: tzdata>=2022.1 in c:\\users\\yoann\\appdata\\local\\programs\\python\\python39\\lib\\site-packages (from pandas->datasets==2.18.0) (2023.3)\n",
      "Requirement already satisfied: six>=1.5 in c:\\users\\yoann\\appdata\\local\\programs\\python\\python39\\lib\\site-packages (from python-dateutil>=2.8.2->pandas->datasets==2.18.0) (1.16.0)\n",
      "Note: you may need to restart the kernel to use updated packages.\n"
     ]
    },
    {
     "name": "stderr",
     "output_type": "stream",
     "text": [
      "WARNING: Ignoring invalid distribution -yspark (c:\\users\\yoann\\appdata\\local\\programs\\python\\python39\\lib\\site-packages)\n",
      "WARNING: Ignoring invalid distribution -yspark (c:\\users\\yoann\\appdata\\local\\programs\\python\\python39\\lib\\site-packages)\n",
      "\n",
      "[notice] A new release of pip is available: 24.1 -> 24.2\n",
      "[notice] To update, run: c:\\users\\yoann\\appdata\\local\\programs\\python\\python39\\python.exe -m pip install --upgrade pip\n"
     ]
    }
   ],
   "source": [
    "pip install datasets==2.18.0\n"
   ]
  },
  {
   "cell_type": "code",
   "execution_count": 3,
   "metadata": {
    "ExecuteTime": {
     "end_time": "2024-03-27T08:04:19.343709Z",
     "start_time": "2024-03-27T08:04:15.222676Z"
    },
    "colab": {
     "base_uri": "https://localhost:8080/"
    },
    "id": "8AGQxROrSStf",
    "outputId": "45390a52-8c82-466d-dcf3-d5b355f14aa4"
   },
   "outputs": [],
   "source": [
    "# All Import Statements Defined Here\n",
    "# Note: Do not add to this list.\n",
    "# ----------------\n",
    "\n",
    "import sys\n",
    "assert sys.version_info[0] == 3\n",
    "assert sys.version_info[1] >= 8\n",
    "\n",
    "from platform import python_version\n",
    "assert int(python_version().split(\".\")[1]) >= 5, \"Please upgrade your Python version following the instructions in \\\n",
    "    the README.md file found in the same directory as this notebook. Your Python version is \" + python_version()\n",
    "\n",
    "from gensim.models import KeyedVectors\n",
    "from gensim.test.utils import datapath\n",
    "import pprint\n",
    "import matplotlib.pyplot as plt\n",
    "plt.rcParams['figure.figsize'] = [10, 5]\n",
    "\n",
    "from datasets import load_dataset\n",
    "imdb_dataset = load_dataset(\"stanfordnlp/imdb\")\n",
    "\n",
    "import re\n",
    "import numpy as np\n",
    "import random\n",
    "import scipy as sp\n",
    "from sklearn.decomposition import TruncatedSVD\n",
    "from sklearn.decomposition import PCA\n",
    "\n",
    "START_TOKEN = '<START>'\n",
    "END_TOKEN = '<END>'\n",
    "NUM_SAMPLES = 150\n",
    "\n",
    "np.random.seed(0)\n",
    "random.seed(0)\n",
    "# ----------------"
   ]
  },
  {
   "cell_type": "markdown",
   "metadata": {
    "id": "SICd5IedSSto"
   },
   "source": [
    "## Word Vectors\n",
    "\n",
    "Word Vectors are often used as a fundamental component for downstream NLP tasks, e.g. question answering, text generation, translation, etc., so it is important to build some intuitions as to their strengths and weaknesses. Here, you will explore two types of word vectors: those derived from *co-occurrence matrices*, and those derived via *GloVe*. \n",
    "\n",
    "**Note on Terminology:** The terms \"word vectors\" and \"word embeddings\" are often used interchangeably. The term \"embedding\" refers to the fact that we are encoding aspects of a word's meaning in a lower dimensional space. As [Wikipedia](https://en.wikipedia.org/wiki/Word_embedding) states, \"*conceptually it involves a mathematical embedding from a space with one dimension per word to a continuous vector space with a much lower dimension*\"."
   ]
  },
  {
   "cell_type": "markdown",
   "metadata": {
    "id": "6Eug6AVrSStr"
   },
   "source": [
    "## Part 1: Count-Based Word Vectors (10 points)\n",
    "\n",
    "Most word vector models start from the following idea:\n",
    "\n",
    "*You shall know a word by the company it keeps ([Firth, J. R. 1957:11](https://en.wikipedia.org/wiki/John_Rupert_Firth))*\n",
    "\n",
    "Many word vector implementations are driven by the idea that similar words, i.e., (near) synonyms, will be used in similar contexts. As a result, similar words will often be spoken or written along with a shared subset of words, i.e., contexts. By examining these contexts, we can try to develop embeddings for our words. With this intuition in mind, many \"old school\" approaches to constructing word vectors relied on word counts. Here we elaborate upon one of those strategies, *co-occurrence matrices* (for more information, see [here](https://web.stanford.edu/~jurafsky/slp3/6.pdf) or [here](https://web.archive.org/web/20190530091127/https://medium.com/data-science-group-iitr/word-embedding-2d05d270b285))."
   ]
  },
  {
   "cell_type": "markdown",
   "metadata": {
    "id": "L6uQ9-DVSSts"
   },
   "source": [
    "### Co-Occurrence\n",
    "\n",
    "A co-occurrence matrix counts how often things co-occur in some environment. Given some word $w_i$ occurring in the document, we consider the *context window* surrounding $w_i$. Supposing our fixed window size is $n$, then this is the $n$ preceding and $n$ subsequent words in that document, i.e. words $w_{i-n} \\dots w_{i-1}$ and $w_{i+1} \\dots w_{i+n}$. We build a *co-occurrence matrix* $M$, which is a symmetric word-by-word matrix in which $M_{ij}$ is the number of times $w_j$ appears inside $w_i$'s window among all documents.\n",
    "\n",
    "**Example: Co-Occurrence with Fixed Window of n=1**:\n",
    "\n",
    "Document 1: \"all that glitters is not gold\"\n",
    "\n",
    "Document 2: \"all is well that ends well\"\n",
    "\n",
    "\n",
    "|     *    | `<START>` | all | that | glitters | is   | not  | gold  | well | ends | `<END>` |\n",
    "|----------|-------|-----|------|----------|------|------|-------|------|------|-----|\n",
    "| `<START>`    | 0     | 2   | 0    | 0        | 0    | 0    | 0     | 0    | 0    | 0   |\n",
    "| all      | 2     | 0   | 1    | 0        | 1    | 0    | 0     | 0    | 0    | 0   |\n",
    "| that     | 0     | 1   | 0    | 1        | 0    | 0    | 0     | 1    | 1    | 0   |\n",
    "| glitters | 0     | 0   | 1    | 0        | 1    | 0    | 0     | 0    | 0    | 0   |\n",
    "| is       | 0     | 1   | 0    | 1        | 0    | 1    | 0     | 1    | 0    | 0   |\n",
    "| not      | 0     | 0   | 0    | 0        | 1    | 0    | 1     | 0    | 0    | 0   |\n",
    "| gold     | 0     | 0   | 0    | 0        | 0    | 1    | 0     | 0    | 0    | 1   |\n",
    "| well     | 0     | 0   | 1    | 0        | 1    | 0    | 0     | 0    | 1    | 1   |\n",
    "| ends     | 0     | 0   | 1    | 0        | 0    | 0    | 0     | 1    | 0    | 0   |\n",
    "| `<END>`      | 0     | 0   | 0    | 0        | 0    | 0    | 1     | 1    | 0    | 0   |\n",
    "\n",
    "In NLP, we commonly use `<START>` and `<END>` tokens to mark the beginning and end of sentences, paragraphs, or documents. These tokens are included in co-occurrence counts, encapsulating each document, for example: \"`<START>` All that glitters is not gold `<END>`\".\n",
    "\n",
    "The matrix rows (or columns) provide word vectors based on word-word co-occurrence, but they can be large. To reduce dimensionality, we employ Singular Value Decomposition (SVD), akin to PCA, selecting the top $k$ principal components. The SVD process decomposes the co-occurrence matrix $A$ into singular values in the diagonal $S$ matrix and new, shorter word vectors in $U_k$.\n",
    "\n",
    "This dimensionality reduction maintains semantic relationships; for instance, *doctor* and *hospital* will be closer than *doctor* and *dog*.\n",
    "\n",
    "For those unfamiliar with eigenvalues and SVD, a beginner-friendly introduction to SVD is available [here](https://davetang.org/file/Singular_Value_Decomposition_Tutorial.pdf). Additional resources for in-depth understanding include lectures [7](https://web.stanford.edu/class/cs168/l/l7.pdf), [8](http://theory.stanford.edu/~tim/s15/l/l8.pdf), and [9](https://web.stanford.edu/class/cs168/l/l9.pdf) of CS168, providing high-level treatment of these algorithms. For practical implementation, utilizing pre-programmed functions from Python packages like numpy, scipy, or sklearn is recommended. While applying full SVD to large corpora can be memory-intensive, scalable techniques such as Truncated SVD exist for extracting the top $k$ vector components efficiently."
   ]
  },
  {
   "cell_type": "markdown",
   "metadata": {
    "id": "7IKeK4xtSStv"
   },
   "source": [
    "### Plotting Co-Occurrence Word Embeddings\n",
    "\n",
    "Here, we will be using the Large Movie Review Dataset. This is a dataset for binary sentiment classification containing substantially more data than previous benchmark datasets. We provide a set of 25,000 highly polar movie reviews for training, and 25,000 for testing. There is additional unlabeled data for use as well. We provide a `read_corpus` function below that pulls out the text of a movie review from the dataset. The function also adds `<START>` and `<END>` tokens to each of the documents, and lowercases words. You do **not** have to perform any other kind of pre-processing."
   ]
  },
  {
   "cell_type": "code",
   "execution_count": 4,
   "metadata": {
    "ExecuteTime": {
     "end_time": "2024-03-27T08:06:28.097673Z",
     "start_time": "2024-03-27T08:06:28.094138Z"
    },
    "id": "xwD2htUoSStw"
   },
   "outputs": [],
   "source": [
    "def read_corpus():\n",
    "    \"\"\" Read files from the Large Movie Review Dataset.\n",
    "        Params:\n",
    "            category (string): category name\n",
    "        Return:\n",
    "            list of lists, with words from each of the processed files\n",
    "    \"\"\"\n",
    "    files = imdb_dataset[\"train\"][\"text\"][:NUM_SAMPLES]\n",
    "    return [[START_TOKEN] + [re.sub(r'[^\\w]', '', w.lower()) for w in f.split(\" \")] + [END_TOKEN] for f in files]\n"
   ]
  },
  {
   "cell_type": "markdown",
   "metadata": {
    "id": "hVLquFhjSStx"
   },
   "source": [
    "Let's have a look what these documents are like…."
   ]
  },
  {
   "cell_type": "code",
   "execution_count": 5,
   "metadata": {
    "ExecuteTime": {
     "end_time": "2024-03-27T08:06:29.881790Z",
     "start_time": "2024-03-27T08:06:29.404708Z"
    },
    "colab": {
     "base_uri": "https://localhost:8080/"
    },
    "id": "mC7B9Cb-SSty",
    "outputId": "a1861c4f-723a-4d99-98d9-5f5db3a92e7a"
   },
   "outputs": [
    {
     "name": "stdout",
     "output_type": "stream",
     "text": [
      "[['<START>', 'i', 'rented', 'i', 'am', 'curiousyellow', 'from', 'my', 'video', 'store', 'because',\n",
      "  'of', 'all', 'the', 'controversy', 'that', 'surrounded', 'it', 'when', 'it', 'was', 'first',\n",
      "  'released', 'in', '1967', 'i', 'also', 'heard', 'that', 'at', 'first', 'it', 'was', 'seized',\n",
      "  'by', 'us', 'customs', 'if', 'it', 'ever', 'tried', 'to', 'enter', 'this', 'country', 'therefore',\n",
      "  'being', 'a', 'fan', 'of', 'films', 'considered', 'controversial', 'i', 'really', 'had', 'to',\n",
      "  'see', 'this', 'for', 'myselfbr', 'br', 'the', 'plot', 'is', 'centered', 'around', 'a', 'young',\n",
      "  'swedish', 'drama', 'student', 'named', 'lena', 'who', 'wants', 'to', 'learn', 'everything',\n",
      "  'she', 'can', 'about', 'life', 'in', 'particular', 'she', 'wants', 'to', 'focus', 'her',\n",
      "  'attentions', 'to', 'making', 'some', 'sort', 'of', 'documentary', 'on', 'what', 'the', 'average',\n",
      "  'swede', 'thought', 'about', 'certain', 'political', 'issues', 'such', 'as', 'the', 'vietnam',\n",
      "  'war', 'and', 'race', 'issues', 'in', 'the', 'united', 'states', 'in', 'between', 'asking',\n",
      "  'politicians', 'and', 'ordinary', 'denizens', 'of', 'stockholm', 'about', 'their', 'opinions',\n",
      "  'on', 'politics', 'she', 'has', 'sex', 'with', 'her', 'drama', 'teacher', 'classmates', 'and',\n",
      "  'married', 'menbr', 'br', 'what', 'kills', 'me', 'about', 'i', 'am', 'curiousyellow', 'is',\n",
      "  'that', '40', 'years', 'ago', 'this', 'was', 'considered', 'pornographic', 'really', 'the', 'sex',\n",
      "  'and', 'nudity', 'scenes', 'are', 'few', 'and', 'far', 'between', 'even', 'then', 'its', 'not',\n",
      "  'shot', 'like', 'some', 'cheaply', 'made', 'porno', 'while', 'my', 'countrymen', 'mind', 'find',\n",
      "  'it', 'shocking', 'in', 'reality', 'sex', 'and', 'nudity', 'are', 'a', 'major', 'staple', 'in',\n",
      "  'swedish', 'cinema', 'even', 'ingmar', 'bergman', 'arguably', 'their', 'answer', 'to', 'good',\n",
      "  'old', 'boy', 'john', 'ford', 'had', 'sex', 'scenes', 'in', 'his', 'filmsbr', 'br', 'i', 'do',\n",
      "  'commend', 'the', 'filmmakers', 'for', 'the', 'fact', 'that', 'any', 'sex', 'shown', 'in', 'the',\n",
      "  'film', 'is', 'shown', 'for', 'artistic', 'purposes', 'rather', 'than', 'just', 'to', 'shock',\n",
      "  'people', 'and', 'make', 'money', 'to', 'be', 'shown', 'in', 'pornographic', 'theaters', 'in',\n",
      "  'america', 'i', 'am', 'curiousyellow', 'is', 'a', 'good', 'film', 'for', 'anyone', 'wanting',\n",
      "  'to', 'study', 'the', 'meat', 'and', 'potatoes', 'no', 'pun', 'intended', 'of', 'swedish',\n",
      "  'cinema', 'but', 'really', 'this', 'film', 'doesnt', 'have', 'much', 'of', 'a', 'plot', '<END>'],\n",
      " ['<START>', 'i', 'am', 'curious', 'yellow', 'is', 'a', 'risible', 'and', 'pretentious', 'steaming',\n",
      "  'pile', 'it', 'doesnt', 'matter', 'what', 'ones', 'political', 'views', 'are', 'because', 'this',\n",
      "  'film', 'can', 'hardly', 'be', 'taken', 'seriously', 'on', 'any', 'level', 'as', 'for', 'the',\n",
      "  'claim', 'that', 'frontal', 'male', 'nudity', 'is', 'an', 'automatic', 'nc17', 'that', 'isnt',\n",
      "  'true', 'ive', 'seen', 'rrated', 'films', 'with', 'male', 'nudity', 'granted', 'they', 'only',\n",
      "  'offer', 'some', 'fleeting', 'views', 'but', 'where', 'are', 'the', 'rrated', 'films', 'with',\n",
      "  'gaping', 'vulvas', 'and', 'flapping', 'labia', 'nowhere', 'because', 'they', 'dont', 'exist',\n",
      "  'the', 'same', 'goes', 'for', 'those', 'crappy', 'cable', 'shows', 'schlongs', 'swinging', 'in',\n",
      "  'the', 'breeze', 'but', 'not', 'a', 'clitoris', 'in', 'sight', 'and', 'those', 'pretentious',\n",
      "  'indie', 'movies', 'like', 'the', 'brown', 'bunny', 'in', 'which', 'were', 'treated', 'to', 'the',\n",
      "  'site', 'of', 'vincent', 'gallos', 'throbbing', 'johnson', 'but', 'not', 'a', 'trace', 'of',\n",
      "  'pink', 'visible', 'on', 'chloe', 'sevigny', 'before', 'crying', 'or', 'implying',\n",
      "  'doublestandard', 'in', 'matters', 'of', 'nudity', 'the', 'mentally', 'obtuse', 'should', 'take',\n",
      "  'into', 'account', 'one', 'unavoidably', 'obvious', 'anatomical', 'difference', 'between', 'men',\n",
      "  'and', 'women', 'there', 'are', 'no', 'genitals', 'on', 'display', 'when', 'actresses', 'appears',\n",
      "  'nude', 'and', 'the', 'same', 'cannot', 'be', 'said', 'for', 'a', 'man', 'in', 'fact', 'you',\n",
      "  'generally', 'wont', 'see', 'female', 'genitals', 'in', 'an', 'american', 'film', 'in',\n",
      "  'anything', 'short', 'of', 'porn', 'or', 'explicit', 'erotica', 'this', 'alleged',\n",
      "  'doublestandard', 'is', 'less', 'a', 'double', 'standard', 'than', 'an', 'admittedly',\n",
      "  'depressing', 'ability', 'to', 'come', 'to', 'terms', 'culturally', 'with', 'the', 'insides',\n",
      "  'of', 'womens', 'bodies', '<END>'],\n",
      " ['<START>', 'if', 'only', 'to', 'avoid', 'making', 'this', 'type', 'of', 'film', 'in', 'the',\n",
      "  'future', 'this', 'film', 'is', 'interesting', 'as', 'an', 'experiment', 'but', 'tells', 'no',\n",
      "  'cogent', 'storybr', 'br', 'one', 'might', 'feel', 'virtuous', 'for', 'sitting', 'thru', 'it',\n",
      "  'because', 'it', 'touches', 'on', 'so', 'many', 'important', 'issues', 'but', 'it', 'does', 'so',\n",
      "  'without', 'any', 'discernable', 'motive', 'the', 'viewer', 'comes', 'away', 'with', 'no', 'new',\n",
      "  'perspectives', 'unless', 'one', 'comes', 'up', 'with', 'one', 'while', 'ones', 'mind', 'wanders',\n",
      "  'as', 'it', 'will', 'invariably', 'do', 'during', 'this', 'pointless', 'filmbr', 'br', 'one',\n",
      "  'might', 'better', 'spend', 'ones', 'time', 'staring', 'out', 'a', 'window', 'at', 'a', 'tree',\n",
      "  'growingbr', 'br', '', '<END>']]\n",
      "corpus size:  290\n"
     ]
    }
   ],
   "source": [
    "imdb_corpus = read_corpus()\n",
    "pprint.pprint(imdb_corpus[:3], compact=True, width=100)\n",
    "print(\"corpus size: \", len(imdb_corpus[0]))"
   ]
  },
  {
   "cell_type": "markdown",
   "metadata": {
    "id": "tfa216H1SSt0"
   },
   "source": [
    "### Question 1.1: Implement `distinct_words` [code] (2 points)\n",
    "\n",
    "Write a method to work out the distinct words (word types) that occur in the corpus.\n",
    "\n",
    "You can use `for` loops to process the input `corpus` (a list of list of strings), but try using Python list comprehensions (which are generally faster). In particular, [this](https://coderwall.com/p/rcmaea/flatten-a-list-of-lists-in-one-line-in-python) may be useful to flatten a list of lists. If you're not familiar with Python list comprehensions in general, here's [more information](https://python-3-patterns-idioms-test.readthedocs.io/en/latest/Comprehensions.html).\n",
    "\n",
    "Your returned `corpus_words` should be sorted. You can use python's `sorted` function for this.\n",
    "\n",
    "You may find it useful to use [Python sets](https://www.w3schools.com/python/python_sets.asp) to remove duplicate words."
   ]
  },
  {
   "cell_type": "code",
   "execution_count": 6,
   "metadata": {
    "id": "NjJABbVFSSt1"
   },
   "outputs": [],
   "source": [
    "def distinct_words(corpus):\n",
    "    \"\"\" Determine a list of distinct words for the corpus.\n",
    "        Params:\n",
    "            corpus (list of list of strings): corpus of documents\n",
    "        Return:\n",
    "            corpus_words (list of strings): sorted list of distinct words across the corpus\n",
    "            n_corpus_words (integer): number of distinct words across the corpus\n",
    "    \"\"\"\n",
    "    corpus_words = []\n",
    "    n_corpus_words = -1\n",
    "    \n",
    "    # ------------------\n",
    "    # Write your implementation here.\n",
    "\n",
    "    #Method 1 with flattening\n",
    "    # flattened_list = {y for x in corpus for y in x}\n",
    "\n",
    "    #Method 2 without flattening\n",
    "    corpus_set= set()\n",
    "    for i in range(len(corpus)):\n",
    "        corpus_set.update(corpus[i])\n",
    "    corpus_words= list(corpus_set)\n",
    "    corpus_words=sorted(corpus_words)\n",
    "    n_corpus_words=len(corpus_words)\n",
    "    \n",
    "    \n",
    "    # ------------------\n",
    "\n",
    "    return corpus_words, n_corpus_words"
   ]
  },
  {
   "cell_type": "code",
   "execution_count": 7,
   "metadata": {},
   "outputs": [
    {
     "name": "stdout",
     "output_type": "stream",
     "text": [
      "5880\n"
     ]
    }
   ],
   "source": [
    "imdb_corpus = read_corpus()\n",
    "a,b=distinct_words(imdb_corpus)\n",
    "print(b)"
   ]
  },
  {
   "cell_type": "code",
   "execution_count": 8,
   "metadata": {},
   "outputs": [
    {
     "name": "stdout",
     "output_type": "stream",
     "text": [
      "['', '000', '010br', '08', '1', '10', '100', '1010', '1015', '1030', '10dirbrad', '10if', '10yearold', '11', '110', '12', '120', '13', '1331', '15', '16', '18000', '18rated', '1930s', '1949er', '1950s', '1951', '1955', '1967', '1969', '1970', '1971', '1972', '1979', '1980', '1981', '1984', '1987', '1998', '1999', '19th', '1st', '2', '20', '200000', '2001', '2003', '20072008', '20s', '210', '23rd', '25', '2d', '3', '30', '3000', '30s', '310', '34th', '3510', '35yearold', '360', '3d', '3dbr', '3part', '4', '40', '410', '43', '5', '5050', '50s', '550', '6', '60', '60s', '60searly', '610', '69', '6million', '7', '70', '70s', '70sbr', '70sstyle', '71', '72nd', '75', '7ft', '80', '80s', '832003', '84', '8½', '90', '930', '94', '99', '<END>', '<START>', '_is_', 'a', 'aapke', 'aaron', 'abandon', 'abandoned', 'abducted', 'abiding', 'ability', 'able', 'aboard', 'abominably', 'abomination', 'about', 'aboutbr', 'above', 'abroad', 'absolute', 'absolutely', 'abstract', 'absurd', 'abundance', 'abuse', 'abuseand', 'accent', 'accentit', 'accents', 'accept', 'accident', 'accompanied', 'accomplished', 'account', 'accounts', 'accusationbr', 'accused', 'achieved', 'aching', 'acquired', 'acres', 'across', 'act', 'actbr', 'acted', 'acting', 'actingbr', 'actingits', 'actingwellhmmm', 'action', 'actionerbr', 'actionpacked', 'actions', 'actor', 'actors', 'actorsactresses', 'actorsbr', 'actress', 'actresses', 'acts', 'actual', 'actually', 'ad', 'adaptation', 'adapted', 'add', 'added', 'adding', 'addition', 'additionally', 'adequate', 'adjective', 'adjustin', 'adlibed', 'admire', 'admired', 'admit', 'admittedly', 'adulterous', 'adultery', 'adults', 'adventure', 'advertised', 'advice', 'advise', 'ae', 'affair', 'affect', 'affection', 'afi', 'afraid', 'africa', 'after', 'aftermath', 'afternoon', 'afterthought', 'afterwards', 'again', 'against', 'age', 'aged', 'agency', 'agendabr', 'agent', 'ages', 'aggravating', 'aggressive', 'ago', 'agonizing', 'agree', 'agreebr', 'agreeing', 'agrees', 'ah', 'ahead', 'ahem', 'ahold', 'aidebr', 'aided', 'aint', 'air', 'airing', 'airpuffed', 'airs', 'aka', 'akelly', 'akin', 'akkayas', 'al', 'alarming', 'alas', 'albeit', 'album', 'alegria', 'alert', 'alien', 'aliens', 'aline', 'alistair', 'alkhali', 'all', 'allbr', 'alleged', 'allen', 'alliance', 'allow', 'allowed', 'allowing', 'allows', 'alltime', 'almodovar', 'almost', 'aloknath', 'alone', 'along', 'already', 'alreadybr', 'also', 'altar', 'altering', 'alternate', 'although', 'altman', 'altmanbr', 'always', 'alzheimers', 'am', 'amateur', 'amateurish', 'amati', 'amazedamazed', 'amazes', 'amazing', 'amazingly', 'amazon', 'ambiguity', 'ambiguous', 'america', 'american', 'americans', 'amigo', 'amistad', 'among', 'amongst', 'amount', 'amounts', 'ample', 'amrita', 'amusing', 'an', 'anatomical', 'and', 'andie', 'angel', 'angela', 'angels', 'anger', 'angle', 'anglebr', 'angles', 'angry', 'animal', 'animals', 'animation', 'animatronics', 'annmargret', 'annoyed', 'annoying', 'annoyingbr', 'annoys', 'anonymous', 'another', 'anotherbr', 'answer', 'answerby', 'answered', 'answers', 'antagonist', 'anthology', 'anthologya', 'anticipated', 'anticipating', 'anticipation', 'antonio', 'antonioni', 'anupam', 'anxious', 'anxiously', 'any', 'anybody', 'anyhow', 'anymore', 'anyone', 'anyonebr', 'anyones', 'anything', 'anyway', 'anyways', 'apart', 'ape', 'apologies', 'appalling', 'appallingly', 'apparent', 'apparently', 'appeal', 'appealingsince', 'appeals', 'appear', 'appearance', 'appearances', 'appearing', 'appears', 'applauds', 'appreciate', 'appreciation', 'approach', 'approaching', 'approved', 'april', 'arab', 'arabia', 'arabs', 'arcs', 'are', 'area', 'areabr', 'arent', 'arguably', 'argue', 'aristocratic', 'aristocrats', 'armor', 'arms', 'army', 'arnaz', 'arnold', 'around', 'arouse', 'aroused', 'arrested', 'arrived', 'arrives', 'art', 'artbr', 'arthouse', 'arthur', 'arthurian', 'artifactwhatever', 'artist', 'artistic', 'artists', 'artwork', 'arty', 'as', 'ashamed', 'ashes', 'asian', 'aside', 'asinie', 'ask', 'asked', 'asking', 'asks', 'asleep', 'asleepbr', 'aspect', 'aspects', 'aspiring', 'ass', 'assassinate', 'assembled', 'assetbr', 'assistant', 'associated', 'assume', 'assuming', 'assured', 'assuredly', 'astonishing', 'astounding', 'astoundingly', 'aswell', 'at', 'ate', 'atmosphere', 'atrocious', 'atrociously', 'atrocity', 'attached', 'attack', 'attacked', 'attacks', 'attempt', 'attempts', 'attention', 'attentions', 'attorney', 'attract', 'attracted', 'attraction', 'attractions', 'attractive', 'audience', 'audiencebr', 'audiences', 'audition', 'audrey', 'aunt', 'aunts', 'australia', 'australiaincluding', 'australian', 'australians', 'authentic', 'autobiography', 'automatic', 'automatically', 'available', 'availablebr', 'avariciously', 'avenging', 'avenue', 'average', 'avoid', 'avoidbr', 'avoided', 'awaiting', 'awake', 'award', 'away', 'awe', 'awesome', 'awful', 'awfully', 'awhile', 'awkward', 'b', 'baby', 'back', 'backdrops', 'backflashes', 'background', 'backing', 'backstabber', 'bad', 'badacted', 'badafter', 'badass', 'badbr', 'baddie', 'baddies', 'badjatya', 'badjatyas', 'badly', 'badlyconceived', 'bag', 'bags', 'bail', 'bait', 'baiting', 'bajillion', 'baldly', 'ball', 'balls', 'banderas', 'bandit', 'bandwagon', 'banging', 'bank', 'bankrobbers', 'bankrupt', 'banned', 'banningwhich', 'baptist', 'bar', 'barantini', 'barcelona', 'barcelonans', 'bare', 'barefoot', 'barely', 'barf', 'bargain', 'bargaining', 'barjatya', 'barjatyas', 'barkers', 'barr', 'barrels', 'barren', 'bars', 'base', 'based', 'basement', 'bashing', 'basically', 'bath', 'bathtub', 'battle', 'battling', 'be', 'beach', 'beaker', 'beamera', 'bear', 'bearable', 'beard', 'beards', 'beat', 'beaten', 'beats', 'beautiful', 'beautifully', 'beauty', 'became', 'because', 'beckon', 'beckoned', 'become', 'becomes', 'bedbr', 'bedeviled', 'bee', 'beef', 'been', 'beer', 'beers', 'before', 'beforebr', 'befriends', 'beg', 'beggars', 'begin', 'beginning', 'begins', 'begs', 'behalfbr', 'behaving', 'behavior', 'behaviorand', 'behind', 'behindbr', 'behl', 'being', 'beings', 'beliefbr', 'believable', 'believablebr', 'believe', 'believed', 'believes', 'belligerent', 'belongs', 'below', 'ben', 'beneath', 'benefit', 'beowulf', 'bergman', 'berlins', 'bernard', 'berth', 'bertinellis', 'besides', 'bespectacled', 'best', 'bet', 'betcha', 'betrayal', 'betrays', 'better', 'betterbr', 'betty', 'between', 'bewareunless', 'beyond', 'bgrade', 'bhagyashree', 'big', 'bigger', 'biggest', 'bignames', 'bikini', 'bill', 'billed', 'billy', 'bimbo', 'bimboesque', 'binks', 'biography', 'biopic', 'bird', 'birds', 'birth', 'bit', 'bite', 'bits', 'bitten', 'bitterly', 'bizarre', 'black', 'blackandwhite', 'blackproduced', 'blah', 'blair', 'blame', 'bland', 'blank', 'blasted', 'blatant', 'blatantly', 'blaxploitation', 'bleach', 'bleakest', 'blessing', 'blockbusters', 'bloke', 'blonde', 'blood', 'bloodshot', 'bloody', 'bloom', 'blow', 'blower', 'blue', 'blueeyed', 'blues', 'bluesmartie', 'bluntly', 'blur', 'blurred', 'blurry', 'blurs', 'bmovie', 'bmovies', 'board', 'boarded', 'boat', 'boatload', 'bob', 'bodies', 'bogdanovich', 'bogdanovichs', 'bogdonavitch', 'bogdonovich', 'bomb', 'bone', 'bonnie', 'bonus', 'boob', 'book', 'bookbr', 'bookbut', 'books', 'booth', 'borders', 'bore', 'bored', 'borefeast', 'boring', 'boringfor', 'boston', 'botched', 'both', 'bother', 'bothered', 'bottle', 'bottles', 'bottom', 'bought', 'bounce', 'bows', 'box', 'boxbr', 'boy', 'boyfriend', 'boys', 'br', 'bra', 'brad', 'brain', 'brains', 'brakesbr', 'brand', 'brandnew', 'brats', 'bratty', 'brave', 'brazil', 'brazilian', 'breakdown', 'breakfast', 'breaking', 'breaks', 'breasts', 'breath', 'breathing', 'breeze', 'breezy', 'brett', 'brick', 'brides', 'brief', 'briefly', 'bright', 'brilliance', 'bring', 'bringing', 'brings', 'brining', 'britain', 'british', 'broadcast', 'broadway', 'broken', 'brooke', 'brooklynamerican', 'brosnans', 'brother', 'brotherafter', 'brothers', 'brought', 'brouhaha', 'brown', 'browning', 'bruce', 'brush', 'brutal', 'brutally', 'bs', 'buchfellner', 'bucks', 'bucksbr', 'budding', 'buddy', 'budget', 'buff', 'buffalo', 'bug', 'build', 'built', 'bulging', 'bulgingeyed', 'bulk', 'bullets', 'bum', 'bummer', 'bumpsbut', 'bunch', 'bunnies', 'bunny', 'burial', 'buried', 'buries', 'burn', 'burned', 'burns', 'burr', 'burst', 'bursting', 'burt', 'bush', 'business', 'but', 'butand', 'butch', 'butt', 'buy', 'buyer', 'buying', 'buzz', 'by', 'byrne', 'c', 'cabaret', 'cable', 'cabo', 'cacophonous', 'cactus', 'cad', 'calamitous', 'calamity', 'call', 'called', 'calling', 'callingbr', 'calls', 'camcorder', 'came', 'camel', 'camera', 'camerabr', 'camerawork', 'camp', 'campers', 'camping', 'campsite', 'can', 'cancel', 'cancels', 'cancer', 'candy', 'canned', 'cannibal', 'cannibals', 'cannot', 'canon', 'cant', 'capital', 'capras', 'capsule', 'captured', 'capturing', 'car', 'card', 'cardboard', 'cards', 'care', 'cared', 'career', 'careers', 'careys', 'caricature', 'caring', 'carlos', 'carol', 'carried', 'carry', 'cartoon', 'cartoonbr', 'cartoonish', 'cartoons', 'case', 'cash', 'cassidy', 'cast', 'casting', 'castros', 'casually', 'catalan', 'cataluñas', 'catastrophic', 'catch', 'catches', 'categories', 'category', 'cater', 'catholicism', 'cats', 'catsgotcanary', 'cattle', 'caught', 'caused', 'causes', 'cave', 'cavorting', 'celebrate', 'celebrated', 'celebration', 'celebrity', 'cell', 'cellarbr', 'celoron', 'censorship', 'center', 'centered', 'centerfold', 'central', 'cents', 'centuries', 'century', 'certain', 'certainly', 'cesspool', 'cgi', 'chace', 'chained', 'chalk', 'challenge', 'chamber', 'chance', 'chances', 'change', 'changed', 'channel', 'chantings', 'chaotic', 'character', 'characters', 'charge', 'charles', 'charlie', 'charm', 'charming', 'chasing', 'cheap', 'cheaper', 'cheapest', 'cheaply', 'cheapo', 'cheated', 'cheating', 'check', 'checked', 'checking', 'cheerleaders', 'cheese', 'cheesy', 'chemistry', 'chesterton', 'chewing', 'chews', 'chic', 'chick', 'child', 'children', 'childrens', 'china', 'chip', 'chloe', 'chocolate', 'choice', 'choir', 'choose', 'chooses', 'choppy', 'chopras', 'chore', 'chose', 'chosen', 'chris', 'christian', 'christians', 'christmas', 'christmastimebr', 'chronically', 'chronicle', 'chronicles', 'chroniclesbr', 'church', 'churns', 'cinderella', 'cinema', 'cinematic', 'cinematography', 'cinemusique', 'circumstances', 'circus', 'citizens', 'city', 'citystyle', 'civil', 'civility', 'claim', 'claimed', 'clan', 'clancy', 'clark', 'clarks', 'class', 'classed', 'classes', 'classic', 'classical', 'classics', 'classmates', 'claustrophobic', 'clean', 'clear', 'clearly', 'clever', 'cliche', 'clicheridden', 'cliché', 'clichéd', 'clichés', 'clients', 'cliff', 'clifford', 'climaxes', 'climbing', 'clinic', 'clitoris', 'cliver', 'clooney', 'close', 'closely', 'closer', 'closeups', 'clothes', 'clothing', 'clowns', 'club', 'cluba', 'clubs', 'clue', 'clumsy', 'clunker', 'clunky', 'clyde', 'coast', 'coat', 'cocktail', 'code', 'coffeshop', 'cogent', 'coincidences', 'cold', 'cole', 'colebr', 'collapse', 'collateral', 'collection', 'colleen', 'college', 'colombo', 'color', 'colors', 'coloured', 'columbus', 'combination', 'combine', 'combo', 'combr', 'come', 'comedian', 'comedienne', 'comedies', 'comedy', 'comedybr', 'comes', 'comeunfortunatelybr', 'comfort', 'comfortable', 'comfortably', 'comforting', 'comic', 'coming', 'commend', 'comment', 'commentbr', 'commenting', 'comments', 'commercial', 'commercialism', 'commits', 'common', 'commonly', 'companions', 'company', 'companys', 'compared', 'comparing', 'comparisonbr', 'compelled', 'competence', 'competent', 'competition', 'complain', 'complete', 'completely', 'completists', 'complicate', 'complicating', 'components', 'comprehensively', 'concept', 'concerned', 'concernedbr', 'concerns', 'concession', 'conclusion', 'condemned', 'condensed', 'condo', 'condon', 'confess', 'confesses', 'confident', 'confirmation', 'confirming', 'confirms', 'conflict', 'conflicts', 'conformed', 'confrontation', 'confronted', 'confused', 'confusing', 'confusion', 'congratulate', 'congregationbr', 'connect', 'connected', 'connection', 'connery', 'cons', 'consequently', 'conservative', 'consider', 'considered', 'considering', 'consists', 'constable', 'constant', 'constantly', 'constitution', 'constructed', 'consulted', 'contained', 'contains', 'contamination', 'contender', 'content', 'context', 'continent', 'continue', 'continues', 'continuing', 'continuity', 'contrary', 'contribute', 'contrived', 'control', 'controlled', 'controversial', 'controversy', 'convey', 'conviction', 'convince', 'convinced', 'convincing', 'convoluted', 'cooed', 'cook', 'cookie', 'cool', 'cop', 'copies', 'copious', 'coproduction', 'copy', 'coquettish', 'corey', 'corner', 'corny', 'corpse', 'correct', 'correctly', 'corruption', 'cost', 'costars', 'costners', 'costs', 'costume', 'costumes', 'cotton', 'could', 'couldnt', 'count', 'counting', 'countless', 'country', 'countrybr', 'countrymen', 'countrys', 'countryside', 'couple', 'coupled', 'couples', 'courageous', 'course', 'cover', 'covered', 'cowards', 'cowriting', 'cowritten', 'cozy', 'crack', 'craft', 'cram', 'crank', 'crap', 'crapbr', 'crappy', 'craptacular', 'cratchit', 'crawford', 'crawl', 'crawls', 'crazed', 'crazy', 'create', 'created', 'creating', 'creation', 'creative', 'creativity', 'creator', 'creators', 'creatures', 'credentials', 'credibility', 'credit', 'credited', 'credits', 'crew', 'crib', 'cribbins', 'cried', 'crime', 'criminal', 'criminals', 'cringe', 'critic', 'criticize', 'criticizing', 'critics', 'cronies', 'cropped', 'cross', 'crosses', 'crossing', 'crotch', 'crowds', 'crude', 'cruel', 'cruelty', 'crushed', 'cry', 'crying', 'cryptic', 'cubitt', 'cue', 'cult', 'cultural', 'culturally', 'culture', 'cup', 'cupboards', 'curing', 'curio', 'curious', 'curiousyellow', 'cuss', 'cussing', 'customers', 'customs', 'cut', 'cute', 'cuteness', 'cuts', 'cutsbr', 'cutting', 'cybil', 'cybill', 'cynical', 'd', 'dad', 'daffodils', 'daisy', 'dallas', 'damage', 'damaged', 'dame', 'damn', 'dan', 'dancer', 'dancing', 'dancingas', 'dang', 'danger', 'danny', 'dark', 'darker', 'darkest', 'darkness', 'darn', 'darts', 'date', 'datebr', 'daughter', 'daughterbr', 'daughters', 'david', 'davis', 'day', 'days', 'dc', 'de', 'dead', 'deadening', 'deaf', 'deal', 'dealing', 'dear', 'death', 'deaths', 'debts', 'decades', 'decapitated', 'decapitation', 'deceive', 'decent', 'deceptive', 'decide', 'decided', 'decides', 'deciding', 'decisions', 'declare', 'dedication', 'dee', 'deedee', 'deep', 'deepest', 'deerintheheadlights', 'dees', 'defend', 'defending', 'define', 'definitely', 'definitions', 'definitive', 'deformed', 'degree', 'delhi', 'delighted', 'delightful', 'delights', 'deliver', 'delivered', 'delivering', 'delivers', 'delivery', 'delphine', 'demand', 'demanded', 'demanding', 'demeaning', 'democracy', 'demonstrate', 'demonstrates', 'demonstrative', 'demure', 'demy', 'deniro', 'deniz', 'denizens', 'denominator', 'department', 'depraved', 'depressing', 'depressingly', 'deprived', 'depth', 'deputy', 'derided', 'derived', 'derringdo', 'descendant', 'descending', 'descends', 'described', 'desert', 'deserved', 'deserves', 'deserving', 'desi', 'design', 'designed', 'designs', 'desired', 'desiredbr', 'desperate', 'despite', 'destination', 'destroyed', 'destruction', 'destructive', 'detail', 'details', 'detective', 'detectives', 'deteriorated', 'detestably', 'deuce', 'develop', 'developed', 'development', 'developments', 'device', 'devil', 'devise', 'devoid', 'devour', 'diabolical', 'dialect', 'dialog', 'dialogs', 'dialogue', 'dialoguebr', 'dicked', 'dickens', 'dictate', 'dictating', 'did', 'didnt', 'didntbr', 'die', 'died', 'diehard', 'difference', 'different', 'differentbr', 'difficult', 'difficulty', 'dig', 'dignitary', 'dignity', 'dimension', 'dimensional', 'dimensionalbr', 'diminishes', 'dinosaurs', 'diplomat', 'dipped', 'dire', 'direct', 'directed', 'directing', 'direction', 'directions', 'directly', 'director', 'directordevil', 'directors', 'directorthat', 'directs', 'dirty', 'disagree', 'disappointed', 'disappointing', 'disappointingpaper', 'disappointment', 'disapproval', 'disaster', 'disastrous', 'disbelief', 'disc', 'discarded', 'discernable', 'discourage', 'discover', 'discovery', 'discs', 'disdain', 'diseasebr', 'disguisebr', 'disgusted', 'disgusting', 'disgustingly', 'disjointed', 'display', 'disposalbr', 'disputes', 'disrespect', 'disrespected', 'disservice', 'distance', 'distinguish', 'distorted', 'distortions', 'distract', 'distributed', 'disturbing', 'ditzy', 'divorced', 'do', 'doa', 'doc', 'docudrama', 'documentary', 'documented', 'doe', 'does', 'doesbr', 'doesnt', 'dog', 'dogville', 'doing', 'doingbr', 'domain', 'dominated', 'donatello', 'done', 'donna', 'dons', 'dont', 'doodles', 'doomed', 'door', 'doppleganger', 'dorothy', 'dotsbr', 'double', 'doublecross', 'doubleheaded', 'doublestandard', 'doublevision', 'doubt', 'doubtfully', 'dovey', 'down', 'downbr', 'downer', 'downey', 'downhill', 'download', 'downloading', 'downtrodden', 'dozen', 'dozens', 'dpp', 'dpps', 'dr', 'drab', 'drag', 'dragged', 'dragging', 'dragonlord', 'drags', 'drain', 'draino', 'drama', 'dramatic', 'dramaticisation', 'dramatism', 'draper', 'draperbr', 'draw', 'drawing', 'drawn', 'dreadful', 'dreadfully', 'dream', 'dreamed', 'dreamland', 'dreamy', 'dreary', 'dreck', 'dribble', 'drifting', 'drifts', 'drink', 'drinking', 'dripping', 'drive', 'drivel', 'driven', 'driving', 'droning', 'drop', 'drug', 'drugs', 'drums', 'drunk', 'dry', 'dub', 'dubbed', 'dubbing', 'dubious', 'dubiousbr', 'dude', 'due', 'dull', 'dullards', 'dullest', 'dumb', 'dumbest', 'dunne', 'during', 'duty', 'duvall', 'duvalls', 'dvd', 'dwindles', 'dying', 'e', 'each', 'eagerly', 'ear', 'eareating', 'earl', 'earlier', 'early', 'earn', 'earns', 'earp', 'earth', 'earthbound', 'easily', 'eastern', 'easy', 'eat', 'eating', 'eats', 'ebenezer', 'echo', 'echos', 'ecstasy', 'ed', 'edgerton', 'edible', 'edit', 'edited', 'editing', 'editors', 'edits', 'edtv', 'educational', 'edward', 'effect', 'effectbr', 'effective', 'effectively', 'effects', 'effort', 'effortbr', 'efforts', 'effusively', 'eighty', 'either', 'eitherbr', 'eitheri', 'ekta', 'el', 'election', 'elegantly', 'elements', 'elevate', 'elite', 'else', 'elsewhere', 'embarrassed', 'embarrassing', 'embarrassment', 'embrace', 'embraced', 'emerged', 'emergedbr', 'emerging', 'emily', 'emir', 'emmy', 'emotion', 'emotional', 'emotionless', 'emotions', 'emotionsbr', 'empathy', 'emphasize', 'empire', 'employed', 'empty', 'en', 'encounter', 'encountered', 'encounters', 'encourage', 'end', 'endearing', 'ended', 'ending', 'endings', 'endingtype', 'endless', 'endlessly', 'ends', 'endure', 'enemies', 'enforcement', 'enforcer', 'engage', 'engaged', 'engaging', 'engalnd', 'england', 'english', 'englishliverpudlian', 'enhancement', 'enjoy', 'enjoyable', 'enjoyablebr', 'enjoyed', 'enlivened', 'enough', 'enraged', 'ensure', 'enter', 'entertain', 'entertained', 'entertainedbr', 'entertaining', 'entertainment', 'enthusiastic', 'enthusiastically', 'entire', 'entirely', 'environment', 'environs', 'epic', 'episode', 'episodes', 'equally', 'equates', 'equilibrium', 'equinox', 'equipment', 'era', 'eraincluding', 'erm', 'ernest', 'ernst', 'erotic', 'erotica', 'errors', 'escape', 'escaped', 'escapejust', 'escapes', 'especially', 'especiallybr', 'essay', 'essence', 'establishment', 'estate', 'esteban', 'esthetes', 'etc', 'eternal', 'ethel', 'ethnic', 'euro', 'eurocannibal', 'eurocult', 'europa', 'europe', 'european', 'eurotrash', 'eva', 'even', 'event', 'events', 'eventually', 'ever', 'everbr', 'everpresent', 'every', 'everybody', 'everyone', 'everything', 'everythingbr', 'evil', 'evolve', 'ewoks', 'exact', 'exactly', 'exaggerated', 'examining', 'example', 'examples', 'excellent', 'except', 'exception', 'exceptional', 'excess', 'exchange', 'excited', 'excitement', 'exclaiming', 'excrement', 'excruciating', 'excuse', 'excuses', 'executed', 'execution', 'executioners', 'executive', 'exercise', 'exgirlfriend', 'exhaustion', 'exhumed', 'exist', 'existence', 'existencebr', 'exists', 'expand', 'expect', 'expectations', 'expected', 'expecting', 'expense', 'experience', 'experiment', 'explain', 'explained', 'explains', 'explicit', 'exploitation', 'exploitative', 'explored', 'explosion', 'exposed', 'express', 'expressed', 'expression', 'expressions', 'extending', 'extra', 'extras', 'extravagant', 'extreme', 'extremely', 'extrovert', 'eye', 'eyeballs', 'eyecatching', 'eyes', 'eyesbr', 'f', 'fabulous', 'face', 'faceless', 'facets', 'fact', 'factbr', 'factor', 'factory', 'facts', 'factual', 'fail', 'failed', 'fails', 'failure', 'faint', 'faintest', 'fair', 'fairly', 'fake', 'fakesad', 'falk', 'fall', 'falling', 'falls', 'falsely', 'familiar', 'families', 'family', 'familys', 'famous', 'fan', 'fanatic', 'fanaticism', 'fanciful', 'fancifully', 'fancy', 'fans', 'fantasies', 'fantastic', 'fantasy', 'far', 'farce', 'fare', 'fares', 'farfetched', 'farm', 'fascinating', 'fashion', 'fashioned', 'fast', 'faster', 'fastforward', 'fastmotion', 'fat', 'fatal', 'fate', 'father', 'fault', 'favorite', 'favour', 'fear', 'feature', 'featured', 'features', 'feeble', 'feebly', 'feel', 'feeling', 'feelings', 'feels', 'fell', 'fellner', 'fellow', 'felt', 'female', 'ferox', 'fest', 'fetch', 'fetched', 'few', 'fiction', 'fictional', 'fictionalizing', 'fiend', 'fifteen', 'fifth', 'fifty', 'fiftytwo', 'fight', 'fighting', 'figure', 'figures', 'fill', 'filler', 'filling', 'film', 'filmbr', 'filmed', 'filmic', 'filming', 'filminstead', 'filmits', 'filmmaker', 'filmmakers', 'filmmaking', 'films', 'filmsbr', 'final', 'finales', 'finally', 'financed', 'financial', 'find', 'finding', 'finds', 'fine', 'finer', 'fingers', 'finish', 'finished', 'finishing', 'finlay', 'fire', 'fired', 'firedand', 'first', 'firstbr', 'fish', 'fist', 'fistfight', 'fit', 'fitzpatrick', 'five', 'fixed', 'fk', 'flakey', 'flap', 'flapping', 'flash', 'flashback', 'flashbacks', 'flashing', 'flashlight', 'flashy', 'flatbr', 'flawed', 'flaws', 'flawsbr', 'fleeting', 'fleischer', 'flesh', 'flesheating', 'fleshed', 'fleshpigtailed', 'flick', 'flickering', 'flicking', 'flicks', 'flipped', 'flock', 'flocked', 'flood', 'floor', 'floored', 'flow', 'flower', 'flowers', 'fluff', 'flunky', 'fluttery', 'focus', 'focusing', 'fogging', 'foggy', 'folk', 'follow', 'followed', 'following', 'follows', 'fondas', 'food', 'footage', 'football', 'footnote', 'for', 'forbidden', 'force', 'forced', 'forcing', 'ford', 'foreign', 'forever', 'forget', 'forgetable', 'forgettablebr', 'forgivable', 'forgot', 'forgotten', 'forgottenbr', 'form', 'formal', 'format', 'former', 'formerly', 'forming', 'formula', 'forrest', 'forth', 'fortunantely', 'fortunately', 'fortynine', 'forward', 'forwarded', 'forwards', 'fosses', 'found', 'foundation', 'fount', 'four', 'fourbr', 'fourteen', 'foxx', 'foxxs', 'frailty', 'framework', 'franchise', 'francis', 'francisca', 'franco', 'francos', 'frank', 'frankly', 'freak', 'freaked', 'freakiest', 'freaks', 'freckles', 'fred', 'frederic', 'free', 'freebie', 'freeway', 'freezeframes', 'french', 'frequent', 'fresh', 'fridge', 'friend', 'friends', 'friendship', 'friggen', 'frightening', 'from', 'frontal', 'frontier', 'fudoh', 'fugitive', 'fulci', 'full', 'fullest', 'fullframe', 'fully', 'fun', 'funbr', 'function', 'functional', 'funding', 'funds', 'funniest', 'funny', 'fuqua', 'fuquas', 'furious', 'furlong', 'furnished', 'furs', 'further', 'furthermore', 'futile', 'future', 'futurebr', 'futuristic', 'féminin', 'g', 'gabor', 'gag', 'gags', 'gained', 'gal', 'galaxina', 'gallos', 'galumphing', 'game', 'gang', 'gangster', 'gaol', 'gaping', 'garage', 'garb', 'garbage', 'garbagebr', 'garbo', 'gardens', 'garrett', 'gate', 'gates', 'gave', 'gay', 'gazarra', 'gazzara', 'gcse', 'gear', 'gems', 'general', 'generally', 'generation', 'generations', 'generics', 'generosity', 'generous', 'generously', 'genitals', 'genius', 'geniusbr', 'genre', 'genres', 'gentleman', 'geoffrey', 'geographic', 'geographical', 'geographically', 'george', 'german', 'germany', 'gershwin', 'gesture', 'get', 'gets', 'getting', 'ghost', 'ghosting', 'ghosts', 'ghostzombies', 'ghoulish', 'giant', 'gift', 'gifts', 'giggled', 'giggles', 'gigglesome', 'gimmicks', 'gimmicky', 'ginger', 'girl', 'girlbr', 'girlfriend', 'girlfriends', 'girls', 'gisela', 'give', 'given', 'gives', 'giving', 'glad', 'glass', 'glasses', 'glimpse', 'glitches', 'global', 'gloombr', 'glorify', 'glory', 'glow', 'glowing', 'gnarly', 'go', 'goal', 'god', 'godards', 'godawful', 'godbr', 'goddard', 'goers', 'goes', 'going', 'goldie', 'goldies', 'gone', 'gonna', 'good', 'goodasgold', 'goodbye', 'goodlooking', 'goof', 'goofs', 'goofy', 'goosey', 'gore', 'gorgeous', 'gory', 'got', 'gotta', 'gotten', 'gouge', 'government', 'gozu', 'grab', 'grabbed', 'grabs', 'grace', 'grade', 'grader', 'grading', 'graduation', 'grail', 'grainy', 'grandparents', 'grant', 'granted', 'graphically', 'grasp', 'gratuitous', 'grave', 'gravebr', 'great', 'greater', 'greatest', 'greatness', 'greedy', 'gregor', 'greydon', 'grief', 'griffiths', 'grin', 'grippingbr', 'grizzled', 'groaning', 'groans', 'gross', 'grossly', 'ground', 'groundbr', 'groundwork', 'group', 'grousing', 'grow', 'growingbr', 'growls', 'grown', 'grrrrrrrrrr', 'grudgingly', 'gruesome', 'grunting', 'guarded', 'guards', 'guess', 'guessing', 'guesswork', 'guide', 'guides', 'guilt', 'guilty', 'guitar', 'gun', 'gunfight', 'guns', 'gut', 'guts', 'guy', 'guys', 'hackbr', 'hackneyed', 'had', 'hadbr', 'hadnt', 'hadntbr', 'haggerty', 'haggertys', 'haha', 'hahk', 'hahn', 'hain', 'hair', 'hairdovery', 'half', 'halfassed', 'halfbakedbr', 'halfhearted', 'halfheartedly', 'halfway', 'hallmark', 'halloween', 'hamfisted', 'hammer', 'hammering', 'hampshire', 'hand', 'handed', 'handful', 'handle', 'handled', 'hands', 'handsome', 'hanged', 'hanging', 'hangover', 'hangs', 'hank', 'hansen', 'hanson', 'hap', 'happen', 'happenbr', 'happened', 'happening', 'happens', 'happensafter', 'happily', 'happiness', 'happy', 'happybr', 'happythinking', 'harass', 'harbor', 'hard', 'hardgore', 'hardly', 'hare', 'harem', 'harmless', 'harp', 'harpy', 'harpys', 'harrison', 'harrowing', 'harryhausen', 'harsh', 'harshness', 'hart', 'hartley', 'has', 'hasnt', 'haste', 'hate', 'hater', 'haunt', 'have', 'havebr', 'havent', 'having', 'hawn', 'hawns', 'hddcs', 'he', 'head', 'headachebr', 'headmistress', 'headphones', 'headscratching', 'heaps', 'hear', 'heard', 'heardbr', 'hearing', 'hears', 'heart', 'heartfelt', 'heartofgold', 'hearts', 'heartstrings', 'heartthrob', 'heath', 'heats', 'heaved', 'heaven', 'heavily', 'heavy', 'heck', 'hed', 'hee', 'hein', 'heisthostage', 'held', 'helicopter', 'helicopters', 'hell', 'hello', 'helmed', 'help', 'helped', 'hence', 'henry', 'henson', 'hepburn', 'hepburns', 'hepburnwho', 'her', 'herbert', 'herbr', 'here', 'herein', 'heres', 'hero', 'heroes', 'heroine', 'herself', 'hes', 'hesitate', 'hey', 'heyday', 'hidden', 'hide', 'hideaway', 'hideous', 'high', 'highlight', 'highly', 'highprofile', 'highschoolers', 'hike', 'hilarious', 'hilariously', 'hilarity', 'hillarious', 'him', 'himbr', 'himself', 'hindi', 'hinted', 'hip', 'hippies', 'hire', 'hired', 'hires', 'hiring', 'his', 'hisher', 'hispanic', 'historic', 'historical', 'historically', 'history', 'historybr', 'hit', 'hitchcock', 'hitchcocklike', 'hitchhiker', 'hits', 'hmmm', 'hobbled', 'hokey', 'hold', 'hole', 'holed', 'holiday', 'holidays', 'hollering', 'hollow', 'holly', 'hollywood', 'hollywoodnot', 'holy', 'homage', 'home', 'homebr', 'homemade', 'homemovie', 'homicidebr', 'homosexual', 'homosexuals', 'honest', 'honestly', 'honesty', 'honor', 'honourable', 'hoo', 'hood', 'hooked', 'hope', 'hoped', 'hopefully', 'hoping', 'horrendous', 'horrible', 'horribly', 'horrid', 'horrific', 'horror', 'horse', 'hot', 'hotbr', 'hotel', 'hotness', 'hottie', 'hour', 'hours', 'house', 'houses', 'housesitter', 'hovers', 'how', 'however', 'howling', 'huge', 'hugely', 'huh', 'hum', 'human', 'humans', 'humbug', 'humorously', 'humour', 'hundred', 'hung', 'hunted', 'hunter', 'hunting', 'hurl', 'hurry', 'hurt', 'hurting', 'hurts', 'husband', 'hussy', 'hut', 'hymn', 'hyped', 'i', 'ice', 'ichi', 'icing', 'icon', 'id', 'idea', 'ideabr', 'idealistic', 'ideals', 'identical', 'identified', 'identify', 'idiocy', 'idiotic', 'idiotically', 'idiots', 'if', 'ignore', 'ignored', 'ill', 'illadvised', 'illegally', 'illiteracy', 'illiterate', 'im', 'imagery', 'images', 'imaginative', 'imagine', 'imagining', 'imdb', 'imitation', 'immediately', 'immense', 'immigrant', 'immigrants', 'imo', 'impact', 'impaled', 'implausible', 'imploring', 'implying', 'importance', 'important', 'impossible', 'impossibly', 'impressed', 'impression', 'impressive', 'improve', 'in', 'inadvertently', 'incapable', 'incessantlybr', 'incidence', 'incident', 'incidental', 'incisions', 'include', 'included', 'includedbr', 'includes', 'including', 'incoherent', 'incoherentbr', 'incompetence', 'incompetent', 'incomprehensible', 'inconsiderately', 'inconsistent', 'incorporating', 'incorrect', 'incredible', 'incrediblelooking', 'incredibly', 'incredulous', 'indeed', 'indication', 'indicative', 'indicator', 'indie', 'indifferent', 'individual', 'individuals', 'industrybr', 'inept', 'inevitable', 'infact', 'infamous', 'infinitely', 'inflicting', 'information', 'informed', 'informs', 'ingenious', 'ingenue', 'ingmar', 'inhabit', 'inhabited', 'inhumane', 'inimitable', 'initial', 'initially', 'ink', 'inked', 'inlaws', 'innocence', 'innocent', 'insane', 'insanely', 'insert', 'inserts', 'inside', 'insides', 'insightful', 'insipid', 'insisted', 'insomnia', 'inspiration', 'inspirational', 'inspire', 'inspired', 'inspiring', 'instead', 'insteadbr', 'insufferable', 'insufferably', 'insult', 'insulting', 'insultingly', 'intellectuality', 'intelligence', 'intelligent', 'intended', 'intense', 'intensity', 'intent', 'intention', 'intentions', 'interaction', 'intercut', 'interest', 'interestbr', 'interested', 'interesting', 'interests', 'intermittent', 'international', 'intervene', 'interview', 'interviews', 'intestines', 'intestinesbr', 'intimidate', 'into', 'intro', 'introduce', 'invariably', 'investigating', 'investment', 'involved', 'involves', 'involving', 'irancontra', 'irate', 'irish', 'ironic', 'ironically', 'irrational', 'irrelevant', 'irresponsibility', 'irritating', 'is', 'isbr', 'island', 'islands', 'isnt', 'isolated', 'issue', 'issues', 'iswas', 'it', 'italian', 'itbr', 'item', 'iteration', 'itll', 'its', 'itself', 'ive', 'j', 'jabbas', 'jack', 'jackie', 'jackson', 'jacob', 'jagger', 'jaggers', 'james', 'jamestown', 'jamie', 'jane', 'janet', 'janette', 'janmichael', 'japanese', 'japp', 'jaques', 'jarjar', 'jarrow', 'jay', 'jealous', 'jeanmarc', 'jeans', 'jebidia', 'jedi', 'jennifer', 'jerky', 'jess', 'jesse', 'jesus', 'jesusbr', 'jill', 'jillbr', 'jills', 'job', 'jobs', 'joe', 'joel', 'jog', 'johars', 'john', 'johnson', 'joining', 'joke', 'jokes', 'jon', 'jones', 'jordan', 'joseph', 'journey', 'joy', 'jr', 'jrs', 'judging', 'jules', 'julia', 'julian', 'julius', 'jump', 'jumped', 'june', 'jungle', 'jungles', 'junior', 'junk', 'jury', 'just', 'justice', 'justifiably', 'juvenile', 'k', 'kapoor', 'kapture', 'kapur', 'karisma', 'karl', 'kate', 'kathy', 'kathys', 'kaufmann', 'kaun', 'keen', 'keena', 'keep', 'keeps', 'keeyes', 'keith', 'kelley', 'kelly', 'kept', 'kernels', 'kerry', 'kessler', 'key', 'kher', 'kia', 'kick', 'kicks', 'kid', 'kiddie', 'kiddies', 'kidnap', 'kidnapped', 'kidnappers', 'kidnaps', 'kids', 'kill', 'killed', 'killedthis', 'killer', 'killing', 'killjoy', 'kills', 'kilter', 'kind', 'king', 'kingsley', 'kinlan', 'kinski', 'kiri', 'kirkland', 'kissykissy', 'kiya', 'knew', 'knife', 'knight', 'know', 'knowing', 'knowledge', 'known', 'knows', 'kong', 'kooky', 'koun', 'kudos', 'kurt', 'kurtz', 'la', 'labeled', 'labia', 'labyrinth', 'lack', 'lacking', 'lackluster', 'lacklustre', 'lacks', 'ladies', 'lady', 'ladybr', 'lair', 'lake', 'lalo', 'lame', 'lamebr', 'lametwilightzone', 'lana', 'land', 'landau', 'landon', 'landscapes', 'language', 'languish', 'large', 'largeness', 'larger', 'larges', 'lars', 'las', 'lascivious', 'last', 'late', 'later', 'latest', 'latterday', 'laugh', 'laughable', 'laughed', 'laughing', 'laughs', 'laughter', 'laura', 'lauras', 'laurence', 'lavender', 'law', 'lawbreaker', 'lawn', 'lawyer', 'layer', 'layering', 'lays', 'lazy', 'lead', 'leaden', 'leading', 'leads', 'leaky', 'learn', 'learned', 'learnt', 'least', 'leave', 'leaves', 'leaving', 'ledger', 'lee', 'left', 'leg', 'legend', 'legends', 'lego', 'lemmings', 'lena', 'lengthbr', 'lengthy', 'lens', 'lent', 'leonardo', 'leopold', 'lesbian', 'less', 'lesson', 'let', 'letdown', 'lets', 'letter', 'letterboxed', 'letting', 'level', 'levels', 'lewis', 'liberators', 'liberty', 'library', 'licensable', 'life', 'lifebr', 'lifestyle', 'lifetime', 'lifetimes', 'lifted', 'light', 'lighthearted', 'lights', 'likable', 'like', 'liked', 'likely', 'likes', 'likewise', 'liking', 'limit', 'limited', 'limits', 'line', 'lines', 'linesbr', 'lion', 'lions', 'lip', 'liquid', 'liquor', 'list', 'listbut', 'listed', 'listen', 'listened', 'listening', 'listings', 'lists', 'listsbr', 'lit', 'literal', 'literally', 'literary', 'little', 'liv', 'live', 'liveaction', 'lived', 'lives', 'living', 'livs', 'lmn', 'load', 'loaded', 'loadedbr', 'loads', 'loathing', 'lobotomy', 'local', 'locals', 'location', 'locations', 'lock', 'loins', 'lol', 'lonely', 'long', 'longest', 'look', 'looked', 'lookguysimdatingthepromqueen', 'lookie', 'looking', 'lookout', 'looks', 'loooong', 'loosbr', 'loose', 'loosey', 'lori', 'lose', 'loses', 'losing', 'lost', 'lostbr', 'lot', 'lots', 'loud', 'lousy', 'love', 'loved', 'lovelier', 'lovely', 'lover', 'loves', 'lovey', 'low', 'lowbudget', 'lowcaliber', 'lowcost', 'lower', 'lowest', 'lowlife', 'lubitsch', 'lubitschs', 'lucas', 'lucie', 'lucille', 'luck', 'luckily', 'lucy', 'ludicrous', 'lullaby', 'lurid', 'lurks', 'luscious', 'lust', 'lying', 'macisaac', 'mad', 'made', 'madhupur', 'madhuri', 'madly', 'madsen', 'mafia', 'magic', 'magically', 'magician', 'magicwielding', 'maidens', 'main', 'maine', 'mainstay', 'maintain', 'major', 'majority', 'make', 'makebelieve', 'makers', 'makes', 'makeup', 'making', 'male', 'malicious', 'mallorqui', 'mallorquins', 'malls', 'man', 'manage', 'managed', 'manager', 'manages', 'managing', 'mancuso', 'manhattan', 'manly', 'manner', 'mans', 'manuel', 'many', 'manybr', 'map', 'mar', 'march', 'marchers', 'margolin', 'marian', 'marienbad', 'mark', 'marketable', 'marketing', 'marleybr', 'marriage', 'marriages', 'married', 'marry', 'marsha', 'martha', 'martin', 'marty', 'marxism', 'mary', 'masculin', 'masochism', 'mason', 'mass', 'massacred', 'massive', 'massively', 'master', 'masterpiece', 'masterpieces', 'masters', 'masti', 'match', 'matching', 'mate', 'material', 'materialbr', 'maths', 'matter', 'matters', 'matthau', 'matthew', 'may', 'mayans', 'maybe', 'mcconaughey', 'mcdowell', 'mcgaw', 'mconaughey', 'me', 'meager', 'meal', 'mean', 'meanest', 'meaning', 'meaningless', 'means', 'meanspirited', 'meant', 'meantime', 'meat', 'mebr', 'mechanicalbr', 'mechanics', 'media', 'mediocre', 'meditate', 'meditation', 'meet', 'meetings', 'meets', 'melbournebr', 'member', 'members', 'memorablebr', 'memorial', 'memories', 'memory', 'men', 'menbr', 'mentally', 'mention', 'mentioned', 'mentioning', 'meow', 'mercenary', 'merciless', 'mercilesslywhich', 'merry', 'meryl', 'mess', 'message', 'messageless', 'messed', 'messi', 'messiest', 'messy', 'met', 'metal', 'metamorphosis', 'metcalfe', 'methods', 'meticulously', 'mexico', 'michael', 'micheal', 'michelangleo', 'mick', 'middle', 'mideighties', 'midsection', 'might', 'miike', 'miikes', 'mildly', 'military', 'miller', 'million', 'millionaire', 'millions', 'milo', 'mind', 'minded', 'mindless', 'mine', 'miner', 'minimal', 'minimum', 'minions', 'miniseries', 'minister', 'minor', 'minus', 'minute', 'minutes', 'miracle', 'miracles', 'miscasting', 'mischief', 'mischievous', 'miserable', 'miserably', 'misery', 'misfortune', 'misleading', 'mismatched', 'miss', 'missed', 'missie', 'missing', 'missy', 'missys', 'mistake', 'mistakes', 'mistreatment', 'mists', 'mitzi', 'mix', 'mixed', 'mixing', 'mm', 'mob', 'mobile', 'model', 'models', 'modern', 'mohnish', 'molasseslike', 'molina', 'moment', 'moments', 'momentsi', 'money', 'mongoloidlevel', 'monica', 'monobr', 'monster', 'monsters', 'monstrous', 'month', 'months', 'montossé', 'monty', 'monumental', 'mood', 'moon', 'moonlighting', 'moot', 'morale', 'moralistic', 'morals', 'more', 'morning', 'moronic', 'mortals', 'most', 'mostly', 'motel', 'mother', 'motions', 'motivations', 'motive', 'motives', 'motley', 'mould', 'mountains', 'mouse', 'mouth', 'mouthbr', 'move', 'movebr', 'moved', 'movementbr', 'moves', 'movie', 'moviebr', 'moviebut', 'movieif', 'movienot', 'movies', 'moviesbr', 'moviewell', 'moving', 'mr', 'mrs', 'ms', 'much', 'muck', 'muffled', 'muita', 'muito', 'multiple', 'multiplex', 'mundane', 'muppetpet', 'muppets', 'murder', 'murdered', 'murderer', 'murderers', 'murderous', 'muriel', 'murky', 'murphy', 'murray', 'murrays', 'museum', 'music', 'musical', 'musicals', 'musics', 'must', 'mutants', 'mutation', 'mutilation', 'mutilations', 'muting', 'my', 'myself', 'myselfbr', 'mysterious', 'mystery', 'mystic', 'mythically', 'mythology', 'myths', 'n', 'naive', 'naked', 'name', 'named', 'names', 'namesagesgenders', 'nananana', 'naomi', 'narcoleptic', 'narrate', 'narration', 'narrative', 'nastassia', 'nasties', 'nasty', 'nathalie', 'national', 'nations', 'native', 'nativeenglishspeakers', 'natives', 'natural', 'naturalized', 'naturally', 'nature', 'naughty', 'nauseambr', 'nauseated', 'nauseatingbr', 'nc17', 'near', 'nearby', 'nearly', 'nearlyasdisgusted', 'neat', 'nebulous', 'necessary', 'neck', 'ned', 'need', 'needed', 'neednt', 'needs', 'negative', 'neighbours', 'neil', 'neither', 'nelson', 'nepotism', 'never', 'neverending', 'nevertheless', 'new', 'newer', 'news', 'newton', 'next', 'nibblebr', 'nice', 'nick', 'nickleodeon', 'nigh', 'night', 'nightbr', 'nina', 'nine', 'ninja', 'niro', 'no', 'noaccount', 'noah', 'nobody', 'nods', 'noise', 'noisier', 'non', 'none', 'nonmagical', 'nonnativeenglishspeakers', 'nonsense', 'nor', 'norm', 'normal', 'normally', 'northern', 'nose', 'not', 'notably', 'notbr', 'note', 'noted', 'nothing', 'nothingbr', 'notice', 'noticed', 'notified', 'notion', 'notoriety', 'notorious', 'notquiteconfess', 'notwithstanding', 'novel', 'novellobr', 'november', 'now', 'nowhere', 'nuance', 'nubile', 'nude', 'nudity', 'nuditybr', 'nudityfree', 'nuff', 'number', 'numbers', 'numbness', 'numerous', 'nun', 'nuns', 'nutsack', 'nuview', 'nyman', 'oakley', 'objections', 'obligatory', 'obliterated', 'oblivion', 'obnoxiousbr', 'obscene', 'obscenely', 'obscenity', 'obscure', 'observing', 'obsessed', 'obsession', 'obtuse', 'obvious', 'obviously', 'obviousyou', 'occasion', 'occasionally', 'occupiers', 'occur', 'october', 'odd', 'oddball', 'oddest', 'oddities', 'oddly', 'odds', 'of', 'off', 'offal', 'offbr', 'offed', 'offense', 'offensive', 'offer', 'offered', 'officer', 'official', 'officially', 'officials', 'offkilter', 'often', 'oftused', 'oh', 'ohtar', 'oirish', 'ok', 'okay', 'okbr', 'oke', 'okes', 'ol', 'old', 'older', 'oldest', 'oldfashioned', 'on', 'onbr', 'once', 'one', 'oneal', 'onebr', 'onedimensional', 'onepanel', 'ones', 'onesbr', 'onesided', 'onethats', 'only', 'onscreen', 'onstreet', 'onto', 'ooooof', 'oozes', 'opaque', 'open', 'opening', 'openminded', 'opens', 'opinion', 'opinions', 'opportunities', 'opportunity', 'opposite', 'oppression', 'oppressive', 'option', 'or', 'orange', 'orchestra', 'order', 'ordinary', 'oregon', 'orientation', 'origin', 'original', 'originality', 'originally', 'orlando', 'orson', 'oscar', 'ostensibly', 'other', 'others', 'otherwise', 'our', 'ourselves', 'out', 'outbr', 'outcome', 'outdated', 'outfield', 'outin', 'outlandish', 'outlaw', 'outofplace', 'output', 'outrage', 'outrageous', 'outset', 'outstanding', 'outthere', 'outweigh', 'over', 'overact', 'overacting', 'overacts', 'overall', 'overblown', 'overboard', 'overcompensates', 'overintellectualised', 'overlook', 'overlookable', 'overly', 'overplays', 'overrated', 'oversexed', 'oversized', 'overthetop', 'overtly', 'overused', 'overwhelmed', 'owen', 'own', 'owner', 'owning', 'pablito', 'pace', 'pacific', 'pacing', 'pack', 'packaged', 'packs', 'pad', 'padded', 'pads', 'pages', 'paid', 'pain', 'painful', 'painfully', 'pains', 'paint', 'painted', 'painting', 'pair', 'pairs', 'pal', 'pale', 'palest', 'paltry', 'panama', 'panic', 'pans', 'panties', 'paper', 'par', 'parable', 'parallel', 'paramore', 'paramour', 'parent', 'parents', 'park', 'part', 'partial', 'partially', 'particle', 'particular', 'particularly', 'partner', 'parts', 'party', 'pass', 'passable', 'passed', 'passion', 'past', 'pat', 'path', 'pathetic', 'patients', 'patrick', 'patti', 'patty', 'pave', 'pawns', 'pay', 'paying', 'pays', 'pb', 'pbs', 'peak', 'peaked', 'pearl', 'peed', 'peek', 'peers', 'peggy', 'pen', 'penis', 'penny', 'people', 'peoplebr', 'peopleits', 'peopletheres', 'perfect', 'perfetic', 'performance', 'performances', 'performer', 'performers', 'perhaps', 'period', 'periodwith', 'permission', 'peroxide', 'perpetuation', 'perry', 'person', 'personal', 'personalities', 'personality', 'personally', 'perspective', 'perspectives', 'persuade', 'perverse', 'pet', 'peter', 'pets', 'petty', 'pfieffers', 'pg', 'phase', 'phenomena', 'philip', 'phone', 'phones', 'photo', 'photographed', 'photography', 'photographybr', 'phrase', 'picasso', 'pick', 'picking', 'picks', 'picture', 'pictures', 'piece', 'pig', 'piglike', 'pile', 'pilfered', 'pilot', 'ping', 'pingpong', 'pink', 'pino', 'pioneer', 'pipe', 'pipers', 'pisana', 'pitiful', 'pitt', 'pity', 'place', 'placed', 'places', 'plagueor', 'plain', 'plan', 'planet', 'planning', 'plantation', 'plastic', 'plasticine', 'plastrons', 'platitudes', 'plausibility', 'play', 'playboy', 'playbr', 'played', 'player', 'playing', 'playmate', 'plays', 'pleasant', 'please', 'pleasure', 'plenty', 'plodded', 'plodding', 'plods', 'plot', 'ploy', 'plucked', 'plug', 'plugs', 'plus', 'pm', 'pochath', 'poetic', 'point', 'pointed', 'pointers', 'pointless', 'points', 'pole', 'police', 'policy', 'political', 'politicians', 'politics', 'polo', 'pong', 'poodlesque', 'poor', 'poorly', 'pop', 'popcorn', 'popped', 'pops', 'popular', 'populate', 'population', 'populist', 'porch', 'porn', 'porno', 'pornographic', 'porter', 'portray', 'portrayal', 'portrayalbr', 'portrayed', 'portrays', 'positive', 'positives', 'positivity', 'possess', 'possibility', 'possible', 'possibly', 'poster', 'postwar', 'potatoes', 'potboiler', 'potentate', 'potential', 'pound', 'poverty', 'power', 'powerful', 'powersthatbe', 'practical', 'praise', 'praising', 'pratt', 'praying', 'preachy', 'preceding', 'precg', 'predictable', 'pregnantbr', 'premiere', 'premise', 'preparation', 'prepared', 'preparing', 'presbyterian', 'presence', 'presences', 'present', 'presentation', 'presented', 'preservation', 'presidential', 'pretend', 'pretensionand', 'pretentious', 'pretentiousness', 'pretty', 'prevails', 'prevent', 'preview', 'previews', 'previous', 'previously', 'prewar', 'price', 'pride', 'priestess', 'prima', 'primarily', 'prime', 'primitive', 'primitives', 'principal', 'print', 'prior', 'prison', 'prisoners', 'private', 'privilege', 'probably', 'problem', 'problems', 'proceedings', 'proceeds', 'process', 'produce', 'produced', 'produceor', 'producer', 'producers', 'producing', 'product', 'production', 'productions', 'productively', 'profit', 'profitmaking', 'profound', 'program', 'progress', 'project', 'projects', 'prolific', 'promise', 'proof', 'properly', 'props', 'pros', 'prosecutions', 'prospect', 'prospector', 'protagonists', 'protestations', 'protocol', 'prove', 'proved', 'proves', 'provide', 'provided', 'providing', 'ps', 'pseudo', 'pseudonym', 'psychedelic', 'psychopath', 'psychos', 'public', 'publicly', 'pull', 'pulled', 'pulls', 'pulp', 'pulsating', 'pulse', 'pun', 'punches', 'punctuality', 'puppetry', 'puppy', 'purchase', 'purchased', 'pure', 'purely', 'purpose', 'purposebr', 'purposes', 'purrrrrrrrrrrrrrrrbr', 'purse', 'pursue', 'push', 'pushes', 'pushups', 'put', 'putrid', 'puts', 'putting', 'pyar', 'python', 'qestions', 'qualified', 'qualify', 'qualities', 'quality', 'quantities', 'quarter', 'question', 'questionable', 'questions', 'quick', 'quickly', 'quicksand', 'quiet', 'quips', 'quite', 'quo', 'quotes', 'rabbit', 'race', 'rachel', 'raft', 'rag', 'ragged', 'rain', 'rainy', 'raise', 'raised', 'raising', 'ramallo', 'rambling', 'rampant', 'ran', 'ranchers', 'random', 'randomly', 'range', 'rangers', 'ranging', 'ransom', 'rao', 'rap', 'rape', 'raphel', 'raphs', 'rapid', 'rapidbr', 'rare', 'rarely', 'rat', 'rate', 'rates', 'rather', 'rating', 'ratings', 'ratio', 'rav4', 'ravage', 'raw', 'ray', 'raymond', 'razora', 'razorblade', 'reach', 'reached', 'reaching', 'reactions', 'read', 'readers', 'reading', 'reagan', 'reaired', 'real', 'realised', 'realistic', 'reality', 'realize', 'realized', 'realizes', 'really', 'reallybr', 'reappear', 'reason', 'reasons', 'reasonthere', 'rebecca', 'rebel', 'rebellious', 'rebirth', 'recall', 'recap', 'receive', 'received', 'recent', 'recently', 'receptions', 'recipe', 'recited', 'recommend', 'recommendation', 'reconciliation', 'reconsider', 'recorded', 'recording', 'recounts', 'recover', 'recreate', 'recreation', 'recycled', 'red', 'redeemed', 'redeeming', 'redefine', 'redherring', 'reenacting', 'refer', 'reference', 'references', 'referring', 'reflect', 'reflection', 'reformed', 'refreshing', 'refund', 'refused', 'regarded', 'regardless', 'regressive', 'regret', 'regulation', 'reinforce', 'relate', 'related', 'relations', 'relationships', 'relative', 'relatively', 'relaxing', 'release', 'released', 'releasing', 'relentless', 'relied', 'relies', 'reload', 'relying', 'remaining', 'remember', 'remick', 'reminding', 'remote', 'remotely', 'remove', 'removed', 'removing', 'renditions', 'rent', 'rentahero', 'rental', 'rented', 'renting', 'repeated', 'repetitive', 'replaced', 'replacing', 'report', 'reporter', 'reports', 'representation', 'repulsion', 'repulsive', 'reputation', 'reputed', 'reputedly', 'requiem', 'require', 'requires', 'requiring', 'rescue', 'research', 'resemble', 'resembles', 'resigned', 'resolution', 'respect', 'respective', 'response', 'responses', 'responsibility', 'responsible', 'rest', 'resting', 'restless', 'result', 'resulting', 'resurrections', 'retain', 'retains', 'retarded', 'retire', 'return', 'returnbr', 'returned', 'returning', 'returns', 'reuniting', 'reveal', 'revealed', 'revealing', 'revel', 'revenge', 'reverb', 'reverting', 'review', 'reviewer', 'reviewers', 'reviews', 'revisit', 'revolutionary', 'revolutionized', 'revolves', 'reward', 'reworking', 'rhetorical', 'rhymed', 'rhythymed', 'rich', 'richard', 'richards', 'richbr', 'rick', 'ricky', 'rickybr', 'rid', 'riddled', 'ride', 'ridiculous', 'ridiculousbr', 'right', 'rights', 'rigomortis', 'rip', 'ripoff', 'ripped', 'rips', 'rise', 'rises', 'risible', 'rising', 'risk', 'riso', 'ritter', 'rival', 'river', 'road', 'roaming', 'robbers', 'robbery', 'robert', 'roberto', 'roberts', 'robin', 'robs', 'rock', 'rocky', 'roladex', 'role', 'rolebr', 'roles', 'rolesas', 'roll', 'rolling', 'rom', 'romance', 'romanceyes', 'romantic', 'romantically', 'romanticized', 'rompbr', 'ronald', 'roof', 'room', 'rooting', 'roots', 'ross', 'rotate', 'roughbut', 'round', 'route', 'routine', 'routinely', 'routines', 'row', 'rrated', 'rub', 'rubbing', 'rugged', 'ruin', 'ruined', 'rule', 'ruler', 'run', 'running', 'runs', 'ruse', 'rush', 'rushed', 'russ', 'russell', 'ruthless', 's', 'saath', 'saban', 'saber', 'sabers', 'sabrina', 'sack', 'sacrifices', 'sacrificesbr', 'sad', 'sadly', 'safe', 'safely', 'saga', 'saggy', 'sahara', 'said', 'saidbr', 'saint', 'sake', 'sale', 'sally', 'salman', 'same', 'samesex', 'sanatorium', 'sanctimoniousness', 'sand', 'sandra', 'sands', 'sat', 'satans', 'satellite', 'satire', 'satirical', 'satisfy', 'satisfying', 'saturate', 'saudi', 'savage', 'savages', 'save', 'saved', 'saves', 'saving', 'saw', 'say', 'saying', 'says', 'scale', 'scandal', 'scare', 'scares', 'scarf', 'scary', 'scarybr', 'scenario', 'scene', 'scenebr', 'scenechrist', 'scenery', 'scenes', 'scenesbr', 'scepticism', 'scheme', 'schiavelli', 'schifrins', 'schindlers', 'schlepped', 'schlongs', 'school', 'science', 'scientists', 'score', 'scorebr', 'scores', 'scorpion', 'scott', 'scottie', 'scotts', 'scraggly', 'scrape', 'scraped', 'scratch', 'scratches', 'screaming', 'screams', 'screen', 'screenbr', 'screening', 'screenplay', 'screenplays', 'screw', 'screwball', 'scrip', 'script', 'scriptwriter', 'scrooge', 'scrooged', 'sculpted', 'sean', 'seanand', 'search', 'searched', 'searching', 'season', 'seasoned', 'sebastian', 'sebastians', 'second', 'seconds', 'secondworst', 'secret', 'secretary', 'secretly', 'section', 'seduced', 'seductive', 'see', 'seeing', 'seeking', 'seem', 'seemed', 'seems', 'seemsbr', 'seen', 'sees', 'seized', 'selected', 'selective', 'self', 'selfcentered', 'selfconsciously', 'selfdestruction', 'sell', 'selling', 'sellout', 'semantically', 'semblance', 'semi', 'semiincoherent', 'send', 'senile', 'sense', 'sensebr', 'senseless', 'sensibility', 'sensitive', 'sent', 'sentence', 'sentences', 'sentiment', 'separately', 'sequel', 'sequence', 'sequences', 'series', 'seriesbr', 'serious', 'seriously', 'serve', 'service', 'serving', 'set', 'sets', 'setting', 'settings', 'several', 'severe', 'severin', 'sevigny', 'sewage', 'sex', 'sexo', 'sexuallytransmitted', 'sexy', 'seyrig', 'sgt', 'shadow', 'shadowbr', 'shahid', 'shahrukhed', 'shake', 'shaker', 'shakes', 'shakespeare', 'shaking', 'shaky', 'shallow', 'shame', 'shamelessly', 'shape', 'share', 'shark', 'shattered', 'she', 'shed', 'shell', 'shepherd', 'sherritt', 'shes', 'ship', 'shirt', 'shite', 'shits', 'shock', 'shocked', 'shocking', 'shockingly', 'shoddy', 'shoes', 'shoestring', 'shook', 'shoot', 'shooting', 'shootout', 'shop', 'shopping', 'short', 'shortbr', 'shorterwhich', 'shot', 'shots', 'should', 'shoulders', 'shouldnt', 'shouldve', 'shouting', 'show', 'showdown', 'showed', 'shower', 'showered', 'showing', 'shown', 'shows', 'showtime', 'shred', 'shredder', 'shrek', 'shrouded', 'sht', 'shut', 'shy', 'siani', 'sickening', 'sickroomhothouse', 'side', 'sidekick', 'sides', 'sidesplittingbr', 'sight', 'signalled', 'signals', 'significant', 'signposted', 'signposting', 'silent', 'silhouetted', 'silk', 'silliness', 'silly', 'silver', 'sim', 'similar', 'similarly', 'simon', 'simons', 'simple', 'simplest', 'simplicity', 'simply', 'simpsons', 'simpsonsbr', 'simulated', 'sinatra', 'since', 'sincere', 'sincerely', 'sincerity', 'singer', 'singers', 'singing', 'single', 'sink', 'sirens', 'sister', 'sit', 'site', 'sitting', 'sittings', 'situation', 'situations', 'situationsbr', 'six', 'skate', 'skill', 'skills', 'skimmed', 'skimpy', 'skinhead', 'skinny', 'skip', 'skirmish', 'slack', 'slacken', 'slap', 'slapstick', 'sleaze', 'sleazy', 'sleep', 'sleepiness', 'sleeping', 'sleeps', 'slew', 'slide', 'slight', 'slightest', 'slightly', 'slimy', 'slips', 'slop', 'sloppy', 'slouching', 'slow', 'slowly', 'slowmotion', 'slowpacingly', 'sluggishly', 'smackdown', 'small', 'smaller', 'smalltown', 'smartmouthed', 'smile', 'smith', 'smitten', 'smoke', 'smoked', 'smokin', 'smokling', 'smooth', 'smug', 'smushed', 'snail', 'snails', 'sneak', 'sneaking', 'snob', 'snoozer', 'snore', 'snowy', 'snuggled', 'so', 'soaked', 'soapbr', 'soaps', 'socalled', 'soccoro', 'socially', 'society', 'societybr', 'sockets', 'softly', 'sold', 'soldier', 'soldiers', 'sole', 'solely', 'solid', 'some', 'somebody', 'somehow', 'someone', 'someones', 'something', 'sometime', 'sometimes', 'somewhat', 'somewhere', 'son', 'song', 'songbr', 'songs', 'soon', 'sooooo', 'sooraj', 'sophistication', 'sophomore', 'sordid', 'sore', 'sorry', 'sort', 'sorts', 'soul', 'soulmate', 'sound', 'sounded', 'sounds', 'soundsand', 'soundtrack', 'soundtracksbr', 'source', 'south', 'southern', 'southerners', 'soviet', 'sows', 'space', 'spaceship', 'spain', 'spanish', 'spare', 'sparked', 'sparkles', 'spawned', 'speak', 'speakers', 'speaking', 'speaks', 'special', 'specially', 'specials', 'species', 'specific', 'speed', 'spelled', 'spend', 'spends', 'spent', 'spew', 'spewingsbut', 'spews', 'spielberg', 'spies', 'spikes', 'spill', 'spinelessness', 'spiral', 'spirit', 'spirited', 'spiritless', 'splash', 'splashing', 'splinter', 'split', 'spoil', 'spoiled', 'spoiler', 'spoilers', 'spoilersbr', 'spoke', 'spoken', 'sporadically', 'sportage', 'sports', 'spot', 'spotlight', 'spots', 'spouse', 'spouting', 'spree', 'springits', 'spy', 'square', 'squeakyclean', 'squished', 'stage', 'stake', 'stalked', 'stalker', 'stalking', 'stand', 'standard', 'standards', 'standing', 'standpoint', 'stands', 'staple', 'star', 'stare', 'staring', 'starlet', 'starred', 'starring', 'stars', 'start', 'started', 'starters', 'starting', 'starts', 'state', 'stated', 'statements', 'states', 'status', 'stay', 'stayed', 'stays', 'stealing', 'steam', 'steaming', 'steamy', 'stein', 'stench', 'step', 'stepmother', 'steps', 'stereoscopic', 'stereotype', 'stereotypes', 'stereotypical', 'steve', 'stick', 'sticking', 'sticks', 'stiff', 'stiflingbr', 'still', 'stilts', 'stink', 'stinker', 'stinking', 'stock', 'stocked', 'stockholm', 'stolen', 'stomach', 'stood', 'stop', 'stopped', 'store', 'storebr', 'stores', 'stories', 'storiesbr', 'storm', 'stormbr', 'stormy', 'story', 'storybr', 'storyits', 'storyline', 'storylineor', 'storyscreenplay', 'storywise', 'straight', 'straightlaced', 'straighttovideo', 'strained', 'stranded', 'strange', 'strangers', 'strangest', 'strapped', 'strategic', 'stratten', 'strattens', 'straw', 'strays', 'stream', 'streep', 'street', 'streetnobr', 'stress', 'stretch', 'strictly', 'stride', 'strike', 'strikes', 'striking', 'string', 'strip', 'strippers', 'stroll', 'strong', 'stronger', 'strongly', 'struck', 'structural', 'structure', 'struggle', 'struggles', 'struggling', 'stuck', 'studded', 'student', 'students', 'studios', 'studly', 'study', 'studying', 'stuff', 'stuffcorny', 'stuffed', 'stumbles', 'stupid', 'stupidbr', 'stupidest', 'stupidity', 'stupidlybr', 'sturdy', 'style', 'stylebr', 'stylings', 'stylish', 'sub', 'subatomic', 'subject', 'submission', 'subpar', 'subplots', 'subs', 'subsequent', 'substance', 'substances', 'substantial', 'subtitles', 'subtly', 'succeeded', 'succeeds', 'success', 'successful', 'such', 'suck', 'sucked', 'suckers', 'suckotrocity', 'sucks', 'sudden', 'suddenly', 'suffer', 'suffering', 'suffers', 'suffice', 'sugar', 'suggest', 'suggestion', 'suggests', 'suicide', 'suite', 'suitor', 'suits', 'sum', 'summary', 'sun', 'sundance', 'sunday', 'sunglasses', 'sunk', 'sunniness', 'sunny', 'sunnybrook', 'sunnys', 'sunscreen', 'sunshine', 'superficial', 'superintendent', 'superior', 'supermarket', 'supermodels', 'support', 'supporting', 'supports', 'suppose', 'supposed', 'supposedly', 'sure', 'surely', 'surface', 'surprise', 'surprised', 'surprisingly', 'surrounded', 'surrounding', 'surrounds', 'survival', 'survive', 'survived', 'susan', 'suspect', 'suspicion', 'suspicions', 'suspicious', 'suspiciously', 'suv', 'swallow', 'swede', 'swedes', 'swedish', 'sweet', 'sweetnatured', 'swerve', 'swift', 'swing', 'swinging', 'switzerland', 'swoozie', 'sykes', 'symbol', 'symbolic', 'symmetric', 'sympathetic', 'sympathize', 'sympathy', 'synopsis', 'system', 't', 'table', 'tackle', 'tacky', 'tad', 'tailor', 'tainted', 'takashi', 'take', 'taken', 'takes', 'taking', 'tale', 'talent', 'talented', 'talents', 'tales', 'taletelling', 'talk', 'talked', 'talking', 'talks', 'tall', 'tame', 'tamest', 'tap', 'tape', 'tapes', 'tara', 'target', 'targets', 'taskbr', 'taste', 'tastebr', 'tastes', 'tawdry', 'tax', 'tea', 'teach', 'teacher', 'team', 'tears', 'technical', 'technically', 'technique', 'techniques', 'tedious', 'tediousbr', 'tediously', 'tee', 'teen', 'teenage', 'teenagers', 'teens', 'teeth', 'television', 'tell', 'telling', 'tells', 'temperament', 'tempra', 'ten', 'tend', 'tends', 'tension', 'term', 'terminator', 'terms', 'terrible', 'terribly', 'terrific', 'terror', 'terrorises', 'terrorized', 'test', 'text', 'textbook', 'than', 'thanks', 'that', 'thatbr', 'thats', 'the', 'theater', 'theaters', 'theatrical', 'theatrics', 'thee', 'their', 'them', 'thematic', 'thembr', 'theme', 'themed', 'themes', 'themselves', 'then', 'there', 'therefore', 'thereof', 'theres', 'these', 'they', 'theyll', 'theyre', 'theyve', 'thge', 'thieves', 'thigh', 'thin', 'thing', 'things', 'think', 'thinking', 'thinkingagain', 'thinwhich', 'third', 'thirty', 'this', 'thisbr', 'thisthis', 'tho', 'thomas', 'thomsons', 'thoroughly', 'those', 'though', 'thoughbr', 'thought', 'thousand', 'three', 'threeyearold', 'threw', 'thriller', 'thrilleronce', 'thrilling', 'throbbing', 'throes', 'through', 'throughout', 'throw', 'thrown', 'thru', 'thudding', 'thugs', 'thundering', 'thursday', 'thus', 'ticket', 'tiffanys', 'till', 'tim', 'time', 'timebr', 'timeframe', 'times', 'timesand', 'timesbr', 'timethe', 'timing', 'ting', 'tiny', 'tips', 'tired', 'tiresome', 'titilation', 'title', 'titled', 'titles', 'tmnt', 'to', 'today', 'todaybr', 'together', 'togetherbr', 'toilet', 'token', 'told', 'tolerable', 'tomorrow', 'tone', 'toned', 'tons', 'too', 'toobr', 'took', 'top', 'topnotch', 'tops', 'tore', 'torpid', 'torture', 'tortures', 'torturing', 'tossed', 'total', 'totally', 'totem', 'touch', 'touched', 'touches', 'tough', 'tought', 'tour', 'towards', 'town', 'toyota', 'trace', 'track', 'tracks', 'trademarks', 'traffic', 'tragedy', 'tragic', 'trailer', 'trailers', 'train', 'training', 'trains', 'trainspotting', 'trait', 'translate', 'translation', 'transpires', 'trash', 'trashbr', 'trashy', 'traumatic', 'travel', 'travels', 'treacherous', 'treasonbr', 'treated', 'treating', 'treatment', 'tree', 'trees', 'trenchant', 'tribal', 'tribe', 'tribes', 'tribeswomen', 'trick', 'trickortreaters', 'tricks', 'tried', 'trier', 'triers', 'tries', 'trip', 'tripbr', 'tripod', 'tripwhich', 'tristan', 'tristans', 'trite', 'trivial', 'trophy', 'tropical', 'trouble', 'troubled', 'troublemaker', 'truck', 'true', 'truest', 'truly', 'trust', 'truth', 'try', 'trying', 'tryinghardtoact', 'tube', 'tuberculosis', 'tucked', 'tune', 'tunes', 'turd', 'turgid', 'turkey', 'turkish', 'turks', 'turn', 'turned', 'turner', 'turning', 'turns', 'turtle', 'turtledom', 'turtles', 'tv', 'tv14', 'tweaking', 'twenty', 'twentyfive', 'twice', 'twinkling', 'twist', 'twisted', 'twists', 'two', 'twodimensional', 'twogallons', 'twoplushour', 'twothirds', 'twotiming', 'type', 'types', 'typical', 'typically', 'tzc', 'ug', 'ugly', 'uk', 'ultimate', 'ultimately', 'ultra', 'ultraminimal', 'umbrage', 'umpteen', 'unable', 'unaffecting', 'unappetising', 'unattractive', 'unavoidably', 'unbearable', 'unbelievable', 'unbelievably', 'unchained', 'uncle', 'uncomfortable', 'uncomfortably', 'unconditionallymuch', 'unconvincing', 'uncountable', 'uncreative', 'uncredited', 'uncut', 'undead', 'undeniably', 'under', 'undercover', 'underdeveloped', 'underexploited', 'undergoes', 'underground', 'underlines', 'underlying', 'undermines', 'understand', 'understandable', 'understandbr', 'understanding', 'understatement', 'understood', 'underworldbr', 'undeservedly', 'undeveloped', 'undressed', 'unenjoyable', 'unexplainable', 'unfair', 'unfathomable', 'unfold', 'unfortunate', 'unfortunately', 'unfortuntately', 'unfunny', 'unharmed', 'unicorn', 'unimaginative', 'unimpressive', 'uninspired', 'unintentionally', 'uninvolving', 'union', 'unique', 'united', 'universalbr', 'universe', 'unknown', 'unknowns', 'unless', 'unlikely', 'unmanaged', 'unnatural', 'unnecessarily', 'unnecessary', 'unneeded', 'unoriginal', 'unpleasant', 'unreal', 'unrealistic', 'unrelentingly', 'unsupervised', 'unsupportive', 'until', 'untrue', 'unusual', 'unveiled', 'unwatchable', 'up', 'uplift', 'uplifting', 'upon', 'upper', 'ups', 'upset', 'upstage', 'upstart', 'upto', 'urge', 'ursula', 'us', 'usage', 'use', 'used', 'user', 'uses', 'using', 'usual', 'usually', 'utilize', 'uttering', 'utterless', 'utterly', 'vacation', 'vainer', 'valery', 'valuable', 'value', 'values', 'van', 'vanquished', 'vapid', 'variety', 'vat', 'vaudeville', 'veered', 'vegas', 'vehicle', 'vein', 'ventures', 'venus', 'verdict', 'vernes', 'versa', 'version', 'versionbr', 'versions', 'very', 'vet', 'vhs', 'vice', 'victim', 'victims', 'victors', 'video', 'videoasia', 'videos', 'vietnam', 'view', 'viewable', 'viewbr', 'viewed', 'viewer', 'viewers', 'viewing', 'viewings', 'views', 'vigilance', 'vile', 'vilebr', 'villain', 'villains', 'villaronga', 'vilmos', 'vincent', 'vinegar', 'vinnie', 'violence', 'violent', 'virgin', 'virginal', 'virtually', 'virtue', 'virtuous', 'vis', 'visible', 'vision', 'visionbr', 'visions', 'visitalthough', 'visited', 'visiting', 'vitavetavegamin', 'vivah', 'vivah20something', 'vocational', 'voguebr', 'voice', 'voiceover', 'voices', 'void', 'vomitum', 'vortex', 'vosloo', 'vote', 'voters', 'vulgar', 'vulgarity', 'vulvas', 'w', 'wagner', 'wait', 'waiting', 'waitress', 'wake', 'wakes', 'walk', 'walked', 'walking', 'walks', 'wall', 'walmart', 'walter', 'wanders', 'wane', 'wannabe', 'want', 'wanted', 'wanting', 'wants', 'war', 'warbr', 'wards', 'warn', 'warned', 'warning', 'warp', 'warped', 'warrants', 'warrior', 'wars', 'was', 'wasbr', 'wash', 'washington', 'washingup', 'wasnt', 'waste', 'wasted', 'wasteful', 'watch', 'watchable', 'watchbr', 'watched', 'watching', 'watchingbr', 'water', 'watts', 'waves', 'waxes', 'way', 'waybr', 'wayher', 'ways', 'waysbr', 'we', 'weak', 'weakest', 'wealthy', 'weapon', 'wearing', 'wears', 'weather', 'wed', 'wedding', 'wee', 'week', 'weekbr', 'weekend', 'weekid', 'weeks', 'weird', 'weirdly', 'weirdo', 'well', 'wellacted', 'wellbeing', 'welldone', 'welles', 'wellexecuted', 'wellknown', 'wellmade', 'wellrated', 'welltodo', 'wellwith', 'went', 'were', 'werent', 'werner', 'western', 'westernepic', 'weston', 'weve', 'what', 'whatbr', 'whatever', 'whatnot', 'whats', 'whatsoever', 'wheel', 'whelkbr', 'when', 'whenever', 'where', 'whether', 'which', 'while', 'whilebr', 'whilst', 'whine', 'whines', 'whining', 'whirlwind', 'white', 'whiz', 'who', 'whocares', 'whoever', 'whole', 'wholebr', 'wholly', 'whom', 'whoo', 'whos', 'whose', 'why', 'whybr', 'wide', 'wideeyed', 'widescreen', 'wielded', 'wife', 'wifegirl', 'wild', 'wildlife', 'will', 'william', 'williams', 'willie', 'willies', 'willing', 'willis', 'wilson', 'wilsonnext', 'window', 'windows', 'winning', 'wins', 'wisdom', 'wise', 'wish', 'wishes', 'wishing', 'wishywashy', 'witch', 'with', 'withbr', 'withhaving', 'within', 'without', 'witless', 'witness', 'witty', 'wives', 'wobble', 'wobbles', 'woefully', 'woman', 'womans', 'women', 'womenbr', 'womens', 'won', 'wonder', 'wondered', 'wonderful', 'wondering', 'wont', 'wooden', 'woodley', 'woods', 'woodward', 'woody', 'word', 'words', 'work', 'workbr', 'worked', 'working', 'workingclass', 'workingoh', 'works', 'world', 'worlds', 'worldshe', 'worn', 'worried', 'worry', 'worse', 'worship', 'worst', 'worth', 'worthless', 'worthwhile', 'worthy', 'would', 'wouldbr', 'wouldnt', 'wouldve', 'woven', 'wow', 'wowed', 'wrestling', 'wretched', 'write', 'writer', 'writers', 'writhing', 'writing', 'writings', 'written', 'wrong', 'wronged', 'wrote', 'wry', 'wwe', 'wyatt', 'xmas', 'yawning', 'yeah', 'year', 'years', 'yeesh', 'yellow', 'yemen', 'yer', 'yes', 'yesterday', 'yet', 'yknow', 'york', 'yorks', 'you', 'youbr', 'youd', 'youll', 'young', 'younger', 'your', 'youre', 'yourself', 'youtube', 'youve', 'yum', 'yup', 'z', 'zack', 'zantaras', 'zappa', 'zeman', 'zero', 'zgrade', 'zillion', 'zombie', 'zombiecannibal', 'zombies', 'zombiesbr', 'zoomins', 'zooms', 'zsigmond']\n"
     ]
    }
   ],
   "source": [
    "print(a)"
   ]
  },
  {
   "cell_type": "code",
   "execution_count": 9,
   "metadata": {
    "colab": {
     "base_uri": "https://localhost:8080/"
    },
    "id": "iKfXBXySSSt3",
    "outputId": "8b49421a-1cff-4f10-fe4a-927f30570b59"
   },
   "outputs": [
    {
     "name": "stdout",
     "output_type": "stream",
     "text": [
      "--------------------------------------------------------------------------------\n",
      "Passed All Tests!\n",
      "--------------------------------------------------------------------------------\n"
     ]
    }
   ],
   "source": [
    "# ---------------------\n",
    "# Run this sanity check\n",
    "# Note that this not an exhaustive check for correctness.\n",
    "# ---------------------\n",
    "\n",
    "# Define toy corpus\n",
    "test_corpus = [\"{} All that glitters isn't gold {}\".format(START_TOKEN, END_TOKEN).split(\" \"), \"{} All's well that ends well {}\".format(START_TOKEN, END_TOKEN).split(\" \")]\n",
    "test_corpus_words, num_corpus_words = distinct_words(test_corpus)\n",
    "\n",
    "# Correct answers\n",
    "ans_test_corpus_words = sorted([START_TOKEN, \"All\", \"ends\", \"that\", \"gold\", \"All's\", \"glitters\", \"isn't\", \"well\", END_TOKEN])\n",
    "ans_num_corpus_words = len(ans_test_corpus_words)\n",
    "\n",
    "# Test correct number of words\n",
    "assert(num_corpus_words == ans_num_corpus_words), \"Incorrect number of distinct words. Correct: {}. Yours: {}\".format(ans_num_corpus_words, num_corpus_words)\n",
    "\n",
    "# Test correct words\n",
    "assert (test_corpus_words == ans_test_corpus_words), \"Incorrect corpus_words.\\nCorrect: {}\\nYours:   {}\".format(str(ans_test_corpus_words), str(test_corpus_words))\n",
    "\n",
    "# Print Success\n",
    "print (\"-\" * 80)\n",
    "print(\"Passed All Tests!\")\n",
    "print (\"-\" * 80)"
   ]
  },
  {
   "cell_type": "code",
   "execution_count": 10,
   "metadata": {},
   "outputs": [
    {
     "name": "stdout",
     "output_type": "stream",
     "text": [
      "['<END>', '<START>', 'All', \"All's\", 'ends', 'glitters', 'gold', \"isn't\", 'that', 'well']\n"
     ]
    }
   ],
   "source": [
    "ans_test_corpus_words = sorted([START_TOKEN, \"All\", \"ends\", \"that\", \"gold\", \"All's\", \"glitters\", \"isn't\", \"well\", END_TOKEN])\n",
    "print(ans_test_corpus_words)"
   ]
  },
  {
   "cell_type": "markdown",
   "metadata": {
    "id": "ymDFJn_lSSt5"
   },
   "source": [
    "### Question 1.2: Implement `compute_co_occurrence_matrix` [code] (3 points)\n",
    "\n",
    "Write a method that constructs a co-occurrence matrix for a certain window-size $n$ (with a default of 4), considering words $n$ before and $n$ after the word in the center of the window. Here, we start to use `numpy (np)` to represent vectors, matrices, and tensors. If you're not familiar with NumPy, there's a NumPy tutorial in the second half of this cs231n [Python NumPy tutorial](http://cs231n.github.io/python-numpy-tutorial/).\n"
   ]
  },
  {
   "cell_type": "code",
   "execution_count": 11,
   "metadata": {
    "id": "v8MIy3KDSSt6"
   },
   "outputs": [],
   "source": [
    "def compute_co_occurrence_matrix(corpus, window_size=4):\n",
    "    \"\"\" Compute co-occurrence matrix for the given corpus and window_size (default of 4).\n",
    "    \n",
    "        Note: Each word in a document should be at the center of a window. Words near edges will have a smaller\n",
    "              number of co-occurring words.\n",
    "              \n",
    "              For example, if we take the document \"<START> All that glitters is not gold <END>\" with window size of 4,\n",
    "              \"All\" will co-occur with \"<START>\", \"that\", \"glitters\", \"is\", and \"not\".\n",
    "    \n",
    "        Params:\n",
    "            corpus (list of list of strings): corpus of documents\n",
    "            window_size (int): size of context window\n",
    "        Return:\n",
    "            M (a symmetric numpy matrix of shape (number of unique words in the corpus , number of unique words in the corpus)): \n",
    "                Co-occurence matrix of word counts. \n",
    "                The ordering of the words in the rows/columns should be the same as the ordering of the words given by the distinct_words function.\n",
    "            word2ind (dict): dictionary that maps word to index (i.e. row/column number) for matrix M.\n",
    "    \"\"\"\n",
    "    words, n_words = distinct_words(corpus)\n",
    "    M = None\n",
    "    word2ind = {}\n",
    "    \n",
    "    # ------------------\n",
    "    # Write your implementation here.\n",
    "\n",
    "\n",
    "    M=np.zeros((n_words,n_words))\n",
    "    for i in range(n_words):\n",
    "        word2ind[words[i]]=i\n",
    "\n",
    "    def add_count_co_occ_matrix(phrase,matrix,window_size,word2ind):\n",
    "        for i in range(len(phrase)):\n",
    "            for j in range(max(0,i-window_size),min(len(phrase),i+window_size+1)):\n",
    "                if j!=i:\n",
    "                    matrix[word2ind[phrase[i]]][word2ind[phrase[j]]]+=1/2 #as we add twice the same couple\n",
    "                    matrix[word2ind[phrase[j]]][word2ind[phrase[i]]]+=1/2 \n",
    "\n",
    "        return matrix\n",
    "\n",
    "    for j in range(len(corpus)):\n",
    "        add_count_co_occ_matrix(corpus[j],M,window_size,word2ind)\n",
    "    \n",
    "    \n",
    "    # ------------------\n",
    "\n",
    "    return M, word2ind"
   ]
  },
  {
   "cell_type": "code",
   "execution_count": 12,
   "metadata": {
    "colab": {
     "base_uri": "https://localhost:8080/"
    },
    "id": "u-6ID1qhSSt7",
    "outputId": "f4f1bccb-06a8-4bb6-ec80-f2b6201b2645"
   },
   "outputs": [
    {
     "name": "stdout",
     "output_type": "stream",
     "text": [
      "--------------------------------------------------------------------------------\n",
      "Passed All Tests!\n",
      "--------------------------------------------------------------------------------\n"
     ]
    }
   ],
   "source": [
    "# ---------------------\n",
    "# Run this sanity check\n",
    "# Note that this is not an exhaustive check for correctness.\n",
    "# ---------------------\n",
    "\n",
    "# Define toy corpus and get student's co-occurrence matrix\n",
    "test_corpus = [\"{} All that glitters isn't gold {}\".format(START_TOKEN, END_TOKEN).split(\" \"), \"{} All's well that ends well {}\".format(START_TOKEN, END_TOKEN).split(\" \")]\n",
    "M_test, word2ind_test = compute_co_occurrence_matrix(test_corpus, window_size=1)\n",
    "\n",
    "# Correct M and word2ind\n",
    "M_test_ans = np.array( \n",
    "    [[0., 0., 0., 0., 0., 0., 1., 0., 0., 1.,],\n",
    "     [0., 0., 1., 1., 0., 0., 0., 0., 0., 0.,],\n",
    "     [0., 1., 0., 0., 0., 0., 0., 0., 1., 0.,],\n",
    "     [0., 1., 0., 0., 0., 0., 0., 0., 0., 1.,],\n",
    "     [0., 0., 0., 0., 0., 0., 0., 0., 1., 1.,],\n",
    "     [0., 0., 0., 0., 0., 0., 0., 1., 1., 0.,],\n",
    "     [1., 0., 0., 0., 0., 0., 0., 1., 0., 0.,],\n",
    "     [0., 0., 0., 0., 0., 1., 1., 0., 0., 0.,],\n",
    "     [0., 0., 1., 0., 1., 1., 0., 0., 0., 1.,],\n",
    "     [1., 0., 0., 1., 1., 0., 0., 0., 1., 0.,]]\n",
    ")\n",
    "ans_test_corpus_words = sorted([START_TOKEN, \"All\", \"ends\", \"that\", \"gold\", \"All's\", \"glitters\", \"isn't\", \"well\", END_TOKEN])\n",
    "word2ind_ans = dict(zip(ans_test_corpus_words, range(len(ans_test_corpus_words))))\n",
    "\n",
    "# Test correct word2ind\n",
    "assert (word2ind_ans == word2ind_test), \"Your word2ind is incorrect:\\nCorrect: {}\\nYours: {}\".format(word2ind_ans, word2ind_test)\n",
    "\n",
    "# Test correct M shape\n",
    "assert (M_test.shape == M_test_ans.shape), \"M matrix has incorrect shape.\\nCorrect: {}\\nYours: {}\".format(M_test.shape, M_test_ans.shape)\n",
    "\n",
    "# Test correct M values\n",
    "for w1 in word2ind_ans.keys():\n",
    "    idx1 = word2ind_ans[w1]\n",
    "    for w2 in word2ind_ans.keys():\n",
    "        idx2 = word2ind_ans[w2]\n",
    "        student = M_test[idx1, idx2]\n",
    "        correct = M_test_ans[idx1, idx2]\n",
    "        if student != correct:\n",
    "            print(\"Correct M:\")\n",
    "            print(M_test_ans)\n",
    "            print(\"Your M: \")\n",
    "            print(M_test)\n",
    "            raise AssertionError(\"Incorrect count at index ({}, {})=({}, {}) in matrix M. Yours has {} but should have {}.\".format(idx1, idx2, w1, w2, student, correct))\n",
    "\n",
    "# Print Success\n",
    "print (\"-\" * 80)\n",
    "print(\"Passed All Tests!\")\n",
    "print (\"-\" * 80)"
   ]
  },
  {
   "cell_type": "markdown",
   "metadata": {
    "id": "K-nyJnAASSt9"
   },
   "source": [
    "### Question 1.3: Implement `reduce_to_k_dim` [code] (1 point)\n",
    "\n",
    "Construct a method that performs dimensionality reduction on the matrix to produce k-dimensional embeddings. Use SVD to take the top k components and produce a new matrix of k-dimensional embeddings. \n",
    "\n",
    "**Note:** All of numpy, scipy, and scikit-learn (`sklearn`) provide *some* implementation of SVD, but only scipy and sklearn provide an implementation of Truncated SVD, and only sklearn provides an efficient randomized algorithm for calculating large-scale Truncated SVD. So please use [sklearn.decomposition.TruncatedSVD](https://scikit-learn.org/stable/modules/generated/sklearn.decomposition.TruncatedSVD.html)."
   ]
  },
  {
   "cell_type": "code",
   "execution_count": 13,
   "metadata": {
    "id": "truGMjifSSt9"
   },
   "outputs": [],
   "source": [
    "def reduce_to_k_dim(M, k=2):\n",
    "    \"\"\" Reduce a co-occurence count matrix of dimensionality (num_corpus_words, num_corpus_words)\n",
    "        to a matrix of dimensionality (num_corpus_words, k) using the following SVD function from Scikit-Learn:\n",
    "            - http://scikit-learn.org/stable/modules/generated/sklearn.decomposition.TruncatedSVD.html\n",
    "    \n",
    "        Params:\n",
    "            M (numpy matrix of shape (number of unique words in the corpus , number of unique words in the corpus)): co-occurence matrix of word counts\n",
    "            k (int): embedding size of each word after dimension reduction\n",
    "        Return:\n",
    "            M_reduced (numpy matrix of shape (number of corpus words, k)): matrix of k-dimensioal word embeddings.\n",
    "                    In terms of the SVD from math class, this actually returns U * S\n",
    "    \"\"\"    \n",
    "    n_iters = 10    # Use this parameter in your call to `TruncatedSVD`\n",
    "    M_reduced = None\n",
    "    print(\"Running Truncated SVD over %i words...\" % (M.shape[0]))\n",
    "    \n",
    "    # ------------------\n",
    "    # Write your implementation here.\n",
    "    svd = TruncatedSVD(n_components=k, n_iter=n_iters)\n",
    "    M_reduced=svd.fit_transform(M)\n",
    "    print(M_reduced)\n",
    "    \n",
    "    \n",
    "    # ------------------\n",
    "\n",
    "    print(\"Done.\")\n",
    "    return M_reduced"
   ]
  },
  {
   "cell_type": "code",
   "execution_count": 14,
   "metadata": {
    "colab": {
     "base_uri": "https://localhost:8080/"
    },
    "id": "7pqKuqvhSSt-",
    "outputId": "7d147bd2-9916-4226-d936-43ce795006cb"
   },
   "outputs": [
    {
     "name": "stdout",
     "output_type": "stream",
     "text": [
      "Running Truncated SVD over 10 words...\n",
      "[[ 6.54802087e-01  7.83221122e-01]\n",
      " [ 5.20200324e-01 -9.43689571e-16]\n",
      " [ 7.05647176e-01 -4.84057274e-01]\n",
      " [ 7.05647176e-01  4.84057274e-01]\n",
      " [ 1.02780472e+00  2.22044605e-16]\n",
      " [ 6.54802087e-01 -7.83221122e-01]\n",
      " [ 3.82258491e-01 -6.56224003e-01]\n",
      " [ 3.82258491e-01  6.56224003e-01]\n",
      " [ 1.39420808e+00  1.06179274e+00]\n",
      " [ 1.39420808e+00 -1.06179274e+00]]\n",
      "Done.\n",
      "--------------------------------------------------------------------------------\n",
      "Passed All Tests!\n",
      "--------------------------------------------------------------------------------\n"
     ]
    }
   ],
   "source": [
    "# ---------------------\n",
    "# Run this sanity check\n",
    "# Note that this is not an exhaustive check for correctness \n",
    "# In fact we only check that your M_reduced has the right dimensions.\n",
    "# ---------------------\n",
    "\n",
    "# Define toy corpus and run student code\n",
    "test_corpus = [\"{} All that glitters isn't gold {}\".format(START_TOKEN, END_TOKEN).split(\" \"), \"{} All's well that ends well {}\".format(START_TOKEN, END_TOKEN).split(\" \")]\n",
    "M_test, word2ind_test = compute_co_occurrence_matrix(test_corpus, window_size=1)\n",
    "M_test_reduced = reduce_to_k_dim(M_test, k=2)\n",
    "\n",
    "# Test proper dimensions\n",
    "assert (M_test_reduced.shape[0] == 10), \"M_reduced has {} rows; should have {}\".format(M_test_reduced.shape[0], 10)\n",
    "assert (M_test_reduced.shape[1] == 2), \"M_reduced has {} columns; should have {}\".format(M_test_reduced.shape[1], 2)\n",
    "\n",
    "# Print Success\n",
    "print (\"-\" * 80)\n",
    "print(\"Passed All Tests!\")\n",
    "print (\"-\" * 80)"
   ]
  },
  {
   "cell_type": "markdown",
   "metadata": {
    "id": "apZknsLoSSt_"
   },
   "source": [
    "### Question 1.4: Implement `plot_embeddings` [code] (1 point)\n",
    "\n",
    "Here you will write a function to plot a set of 2D vectors in 2D space. For graphs, we will use Matplotlib (`plt`).\n",
    "\n",
    "For this example, you may find it useful to adapt [this code](http://web.archive.org/web/20190924160434/https://www.pythonmembers.club/2018/05/08/matplotlib-scatter-plot-annotate-set-text-at-label-each-point/). In the future, a good way to make a plot is to look at [the Matplotlib gallery](https://matplotlib.org/gallery/index.html), find a plot that looks somewhat like what you want, and adapt the code they give."
   ]
  },
  {
   "cell_type": "code",
   "execution_count": 15,
   "metadata": {
    "id": "dDcCZE5lSSuA"
   },
   "outputs": [],
   "source": [
    "def plot_embeddings(M_reduced, word2ind, words):\n",
    "    \"\"\" Plot in a scatterplot the embeddings of the words specified in the list \"words\".\n",
    "        NOTE: do not plot all the words listed in M_reduced / word2ind.\n",
    "        Include a label next to each point.\n",
    "        \n",
    "        Params:\n",
    "            M_reduced (numpy matrix of shape (number of unique words in the corpus , 2)): matrix of 2-dimensioal word embeddings\n",
    "            word2ind (dict): dictionary that maps word to indices for matrix M\n",
    "            words (list of strings): words whose embeddings we want to visualize\n",
    "    \"\"\"\n",
    "\n",
    "    # ------------------\n",
    "    # Write your implementation here.\n",
    "\n",
    "    number_plotted=min(10,len(words))\n",
    "    words_reduced=words[:number_plotted]\n",
    "    \n",
    "    x_coords = [M_reduced[word2ind[words_reduced[i]]][0] for i in range(number_plotted)]\n",
    "    y_coords = [M_reduced[word2ind[words_reduced[i]]][1] for i in range(number_plotted)]\n",
    "    \n",
    "    for i,type in enumerate(words_reduced):\n",
    "        x = x_coords[i]\n",
    "        y = y_coords[i]\n",
    "        plt.scatter(x, y, marker='x', color='red')\n",
    "        plt.text(x, y, type, fontsize=9)\n",
    "    plt.show()\n",
    "        \n",
    "    \n",
    "    # ------------------"
   ]
  },
  {
   "cell_type": "code",
   "execution_count": 16,
   "metadata": {
    "colab": {
     "base_uri": "https://localhost:8080/",
     "height": 372
    },
    "id": "gHxOMWPxSSuB",
    "outputId": "565711fc-02ea-43cb-daa5-8b8bb310cdda"
   },
   "outputs": [
    {
     "name": "stdout",
     "output_type": "stream",
     "text": [
      "--------------------------------------------------------------------------------\n",
      "Outputted Plot:\n"
     ]
    },
    {
     "data": {
      "image/png": "[encoded data removed]",
      "text/plain": [
       "<Figure size 1000x500 with 1 Axes>"
      ]
     },
     "metadata": {},
     "output_type": "display_data"
    },
    {
     "name": "stdout",
     "output_type": "stream",
     "text": [
      "--------------------------------------------------------------------------------\n"
     ]
    }
   ],
   "source": [
    "# ---------------------\n",
    "# Run this sanity check\n",
    "# Note that this is not an exhaustive check for correctness.\n",
    "# The plot produced should look like the included file question_1.4_test.png \n",
    "# ---------------------\n",
    "\n",
    "print (\"-\" * 80)\n",
    "print (\"Outputted Plot:\")\n",
    "\n",
    "M_reduced_plot_test = np.array([[1, 1], [-1, -1], [1, -1], [-1, 1], [0, 0]])\n",
    "word2ind_plot_test = {'test1': 0, 'test2': 1, 'test3': 2, 'test4': 3, 'test5': 4}\n",
    "words = ['test1', 'test2', 'test3', 'test4', 'test5']\n",
    "plot_embeddings(M_reduced_plot_test, word2ind_plot_test, words)\n",
    "\n",
    "print (\"-\" * 80)"
   ]
  },
  {
   "cell_type": "markdown",
   "metadata": {
    "id": "YpBzYs2hSSuC"
   },
   "source": [
    "### Question 1.5: Co-Occurrence Plot Analysis [written] (3 points)\n",
    "\n",
    "Now we will put together all the parts you have written! We will compute the co-occurrence matrix with fixed window of 4 (the default window size), over the Large Movie Review corpus. Then we will use TruncatedSVD to compute 2-dimensional embeddings of each word. TruncatedSVD returns U\\*S, so we need to normalize the returned vectors, so that all the vectors will appear around the unit circle (therefore closeness is directional closeness). **Note**: The line of code below that does the normalizing uses the NumPy concept of *broadcasting*. If you don't know about broadcasting, check out\n",
    "[Computation on Arrays: Broadcasting by Jake VanderPlas](https://jakevdp.github.io/PythonDataScienceHandbook/02.05-computation-on-arrays-broadcasting.html).\n",
    "\n",
    "Run the below cell to produce the plot. It can take up to a few minutes to run."
   ]
  },
  {
   "cell_type": "code",
   "execution_count": 17,
   "metadata": {
    "colab": {
     "base_uri": "https://localhost:8080/",
     "height": 355
    },
    "id": "7L1Uk50mSSuD",
    "outputId": "35ae3e41-07c8-421b-e75c-dcbeaa4fb015"
   },
   "outputs": [
    {
     "name": "stdout",
     "output_type": "stream",
     "text": [
      "Running Truncated SVD over 5880 words...\n",
      "[[ 5.94630529e+01  3.74356664e+00]\n",
      " [ 5.55188909e-01 -2.47186234e-01]\n",
      " [ 2.86496283e-01 -5.50616964e-02]\n",
      " ...\n",
      " [ 2.40639845e+00  1.60721357e-01]\n",
      " [ 4.39053869e-02  1.68274454e-02]\n",
      " [ 5.89593273e-02 -2.61832891e-02]]\n",
      "Done.\n"
     ]
    },
    {
     "data": {
      "image/png": "[encoded data removed]",
      "text/plain": [
       "<Figure size 1000x500 with 1 Axes>"
      ]
     },
     "metadata": {},
     "output_type": "display_data"
    }
   ],
   "source": [
    "# -----------------------------\n",
    "# Run This Cell to Produce Your Plot\n",
    "# ------------------------------\n",
    "imdb_corpus = read_corpus()\n",
    "M_co_occurrence, word2ind_co_occurrence = compute_co_occurrence_matrix(imdb_corpus)\n",
    "M_reduced_co_occurrence = reduce_to_k_dim(M_co_occurrence, k=2)\n",
    "\n",
    "# Rescale (normalize) the rows to make them each of unit-length\n",
    "M_lengths = np.linalg.norm(M_reduced_co_occurrence, axis=1)\n",
    "M_normalized = M_reduced_co_occurrence / M_lengths[:, np.newaxis] # broadcasting\n",
    "\n",
    "words = ['movie', 'book', 'mysterious', 'story', 'fascinating', 'good', 'interesting', 'large', 'massive', 'huge']\n",
    "\n",
    "plot_embeddings(M_normalized, word2ind_co_occurrence, words)"
   ]
  },
  {
   "cell_type": "markdown",
   "metadata": {
    "id": "RtOd40JTSSuE"
   },
   "source": [
    "**Verify that your figure matches \"question_1.5.png\" in the assignment zip. If not, use the figure in \"question_1.5.png\" to answer the next two questions.**"
   ]
  },
  {
   "cell_type": "markdown",
   "metadata": {
    "id": "ciXWGMvRSSuE"
   },
   "source": [
    "a. Find at least two groups of words that cluster together in 2-dimensional embedding space. Give an explanation for each cluster you observe."
   ]
  },
  {
   "cell_type": "markdown",
   "metadata": {
    "id": "fLU7o3HESSuF"
   },
   "source": [
    "#### <font color=\"red\">Write your answer here.</font>\n",
    "\n",
    "There is the cluster containing solely massive and the other which contains all the other words.\n",
    "We can explain the isolation of 'massive' by the fact that it sounds more informal and that the context of his use matches more with a quantity or a number which are humonguous which doesn't fit with a movie review.\n"
   ]
  },
  {
   "cell_type": "markdown",
   "metadata": {
    "id": "3H-tyA9RSSuF"
   },
   "source": [
    "b. What doesn't cluster together that you might think should have? Describe at least two examples."
   ]
  },
  {
   "cell_type": "markdown",
   "metadata": {
    "id": "3NG2j9J4SSuG"
   },
   "source": [
    "#### <font color=\"red\">Write your answer here.</font>\n",
    "\n",
    "It should have had massive and huge and fascinating and interesting."
   ]
  },
  {
   "cell_type": "markdown",
   "metadata": {
    "id": "_h0OzAaRSSuI"
   },
   "source": [
    "## Part 2: Prediction-Based Word Vectors (15 points)\n",
    "\n",
    "As discussed in class, more recently prediction-based word vectors have demonstrated better performance, such as word2vec and GloVe (which also utilizes the benefit of counts). Here, we shall explore the embeddings produced by GloVe. Please revisit the class notes and lecture slides for more details on the word2vec and GloVe algorithms. If you're feeling adventurous, challenge yourself and try reading [GloVe's original paper](https://nlp.stanford.edu/pubs/glove.pdf).\n",
    "\n",
    "Then run the following cells to load the GloVe vectors into memory. **Note**: If this is your first time to run these cells, i.e. download the embedding model, it will take a couple minutes to run. If you've run these cells before, rerunning them will load the model without redownloading it, which will take about 1 to 2 minutes."
   ]
  },
  {
   "cell_type": "code",
   "execution_count": 18,
   "metadata": {
    "colab": {
     "base_uri": "https://localhost:8080/"
    },
    "id": "l3kwvdksSSuI",
    "outputId": "736a4672-4b59-4c2e-d6e6-b16e4548db30"
   },
   "outputs": [
    {
     "name": "stdout",
     "output_type": "stream",
     "text": [
      "Loaded vocab size 400000\n"
     ]
    }
   ],
   "source": [
    "def load_embedding_model():\n",
    "    \"\"\" Load GloVe Vectors\n",
    "        Return:\n",
    "            wv_from_bin: All 400000 embeddings, each length 200\n",
    "    \"\"\"\n",
    "    import gensim.downloader as api\n",
    "    wv_from_bin = api.load(\"glove-wiki-gigaword-200\")\n",
    "    print(\"Loaded vocab size %i\" % len(list(wv_from_bin.index_to_key)))\n",
    "    return wv_from_bin\n",
    "wv_from_bin = load_embedding_model()"
   ]
  },
  {
   "cell_type": "markdown",
   "metadata": {
    "id": "egIeG1RTSSuK"
   },
   "source": [
    "#### Note: If you are receiving a \"reset by peer\" error, rerun the cell to restart the download. "
   ]
  },
  {
   "cell_type": "markdown",
   "metadata": {
    "id": "rH9gWJWpSSuL"
   },
   "source": [
    "### Reducing dimensionality of Word Embeddings\n",
    "Let's directly compare the GloVe embeddings to those of the co-occurrence matrix. In order to avoid running out of memory, we will work with a sample of 40000 GloVe vectors instead.\n",
    "Run the following cells to:\n",
    "\n",
    "1. Put 40000 Glove vectors into a matrix M\n",
    "2. Run `reduce_to_k_dim` (your Truncated SVD function) to reduce the vectors from 200-dimensional to 2-dimensional."
   ]
  },
  {
   "cell_type": "code",
   "execution_count": 19,
   "metadata": {
    "id": "0PROUu_-SSuL"
   },
   "outputs": [],
   "source": [
    "def get_matrix_of_vectors(wv_from_bin, required_words):\n",
    "    \"\"\" Put the GloVe vectors into a matrix M.\n",
    "        Param:\n",
    "            wv_from_bin: KeyedVectors object; the 400000 GloVe vectors loaded from file\n",
    "        Return:\n",
    "            M: numpy matrix shape (num words, 200) containing the vectors\n",
    "            word2ind: dictionary mapping each word to its row number in M\n",
    "    \"\"\"\n",
    "    import random\n",
    "    words = list(wv_from_bin.index_to_key)\n",
    "    print(\"Shuffling words ...\")\n",
    "    random.seed(225)\n",
    "    random.shuffle(words)\n",
    "    print(\"Putting %i words into word2ind and matrix M...\" % len(words))\n",
    "    word2ind = {}\n",
    "    M = []\n",
    "    curInd = 0\n",
    "    for w in words:\n",
    "        try:\n",
    "            M.append(wv_from_bin.get_vector(w))\n",
    "            word2ind[w] = curInd\n",
    "            curInd += 1\n",
    "        except KeyError:\n",
    "            continue\n",
    "    for w in required_words:\n",
    "        if w in words:\n",
    "            continue\n",
    "        try:\n",
    "            M.append(wv_from_bin.get_vector(w))\n",
    "            word2ind[w] = curInd\n",
    "            curInd += 1\n",
    "        except KeyError:\n",
    "            continue\n",
    "    M = np.stack(M)\n",
    "    print(\"Done.\")\n",
    "    return M, word2ind"
   ]
  },
  {
   "cell_type": "code",
   "execution_count": 20,
   "metadata": {
    "colab": {
     "base_uri": "https://localhost:8080/"
    },
    "id": "cpgM0M-hSSuM",
    "outputId": "b0989be9-8e11-45d8-8ba9-47297a990760"
   },
   "outputs": [
    {
     "name": "stdout",
     "output_type": "stream",
     "text": [
      "Shuffling words ...\n",
      "Putting 400000 words into word2ind and matrix M...\n",
      "Done.\n",
      "Running Truncated SVD over 400000 words...\n",
      "[[-0.89661056 -0.70918286]\n",
      " [-0.73596627  0.2204022 ]\n",
      " [-1.9044962   1.1173544 ]\n",
      " ...\n",
      " [-1.0397413  -0.92569447]\n",
      " [-1.5453972  -0.3342221 ]\n",
      " [-2.5942345  -0.1508111 ]]\n",
      "Done.\n"
     ]
    }
   ],
   "source": [
    "# -----------------------------------------------------------------\n",
    "# Run Cell to Reduce 200-Dimensional Word Embeddings to k Dimensions\n",
    "# Note: This should be quick to run\n",
    "# -----------------------------------------------------------------\n",
    "M, word2ind = get_matrix_of_vectors(wv_from_bin, words)\n",
    "M_reduced = reduce_to_k_dim(M, k=2)\n",
    "\n",
    "# Rescale (normalize) the rows to make them each of unit-length\n",
    "M_lengths = np.linalg.norm(M_reduced, axis=1)\n",
    "M_reduced_normalized = M_reduced / M_lengths[:, np.newaxis] # broadcasting"
   ]
  },
  {
   "cell_type": "markdown",
   "metadata": {
    "id": "8_46FYMJSSuN"
   },
   "source": [
    "**Note: If you are receiving out of memory issues on your local machine, try closing other applications to free more memory on your device. You may want to try restarting your machine so that you can free up extra memory. Then immediately run the jupyter notebook and see if you can load the word vectors properly. If you still have problems with loading the embeddings onto your local machine after this, please go to office hours or contact course staff.**"
   ]
  },
  {
   "cell_type": "markdown",
   "metadata": {
    "id": "zAFrU8ahSSuO"
   },
   "source": [
    "### Question 2.1: GloVe Plot Analysis [written] (3 points)\n",
    "\n",
    "Run the cell below to plot the 2D GloVe embeddings for `['movie', 'book', 'mysterious', 'story', 'fascinating', 'good', 'interesting', 'large', 'massive', 'huge']`."
   ]
  },
  {
   "cell_type": "code",
   "execution_count": 21,
   "metadata": {
    "colab": {
     "base_uri": "https://localhost:8080/",
     "height": 321
    },
    "id": "9kHRkjz6SSuO",
    "outputId": "fbe0f8af-ea5e-456d-8d75-b9ad0caaa5fc",
    "scrolled": true
   },
   "outputs": [
    {
     "data": {
      "image/png": "[encoded data removed]",
      "text/plain": [
       "<Figure size 1000x500 with 1 Axes>"
      ]
     },
     "metadata": {},
     "output_type": "display_data"
    }
   ],
   "source": [
    "words = ['movie', 'book', 'mysterious', 'story', 'fascinating', 'good', 'interesting', 'large', 'massive', 'huge']\n",
    "\n",
    "plot_embeddings(M_reduced_normalized, word2ind, words)"
   ]
  },
  {
   "cell_type": "markdown",
   "metadata": {},
   "source": [
    "**Verify that your figure matches \"question_2.1.png\" in the assignment zip. If not, use the figure in \"question_2.1.png\" (and the figure in \"question_1.5.png\", if applicable) to answer the next two questions.**"
   ]
  },
  {
   "cell_type": "markdown",
   "metadata": {
    "id": "eOnrMZkzSSuP"
   },
   "source": [
    "a. What is one way the plot is different from the one generated earlier from the co-occurrence matrix? What is one way it's similar?"
   ]
  },
  {
   "cell_type": "markdown",
   "metadata": {
    "id": "5KC4PTQoSSuQ"
   },
   "source": [
    "#### <font color=\"red\">Write your answer here.</font>\n",
    "\n"
   ]
  },
  {
   "cell_type": "markdown",
   "metadata": {
    "id": "bNDY5puZSSuQ"
   },
   "source": [
    "b. Why might the GloVe plot (question_2.1.png) differ from the plot generated earlier from the co-occurrence matrix (question_1.5.png)?\n"
   ]
  },
  {
   "cell_type": "markdown",
   "metadata": {
    "id": "o-cWAvi8SSuR"
   },
   "source": [
    "#### <font color=\"red\">Write your answer here.</font>\n",
    "\n",
    "In GloVe, we are weighing the different words and take into account their frequency (frequent co-occurences are not overweighted as non frequent co-occurences), co-occurence matrix doesn't."
   ]
  },
  {
   "cell_type": "markdown",
   "metadata": {
    "id": "nA8oIbjjSSuS"
   },
   "source": [
    "### Cosine Similarity\n",
    "Now that we have word vectors, we need a way to quantify the similarity between individual words, according to these vectors. One such metric is cosine-similarity. We will be using this to find words that are \"close\" and \"far\" from one another.\n",
    "\n",
    "We can think of n-dimensional vectors as points in n-dimensional space. If we take this perspective [L1](http://mathworld.wolfram.com/L1-Norm.html) and [L2](http://mathworld.wolfram.com/L2-Norm.html) Distances help quantify the amount of space \"we must travel\" to get between these two points. Another approach is to examine the angle between two vectors. From trigonometry we know that:\n",
    "\n",
    "<img src=\"./imgs/inner_product.png\" width=20% style=\"float: center;\"></img>\n",
    "\n",
    "Instead of computing the actual angle, we can leave the similarity in terms of $similarity = cos(\\Theta)$. Formally the [Cosine Similarity](https://en.wikipedia.org/wiki/Cosine_similarity) $s$ between two vectors $p$ and $q$ is defined as:\n",
    "\n",
    "$$s = \\frac{p \\cdot q}{||p|| ||q||}, \\textrm{ where } s \\in [-1, 1] $$ "
   ]
  },
  {
   "cell_type": "markdown",
   "metadata": {
    "id": "sFfCOLUsSSuS"
   },
   "source": [
    "### Question 2.2: Words with Multiple Meanings (1.5 points) [code + written] \n",
    "Polysemes and homonyms are words that have more than one meaning (see this [wiki page](https://en.wikipedia.org/wiki/Polysemy) to learn more about the difference between polysemes and homonyms ). Find a word with *at least two different meanings* such that the top-10 most similar words (according to cosine similarity) contain related words from *both* meanings. For example, \"leaves\" has both \"go_away\" and \"a_structure_of_a_plant\" meaning in the top 10, and \"scoop\" has both \"handed_waffle_cone\" and \"lowdown\". You will probably need to try several polysemous or homonymic words before you find one. \n",
    "\n",
    "Please state the word you discover and the multiple meanings that occur in the top 10. Why do you think many of the polysemous or homonymic words you tried didn't work (i.e. the top-10 most similar words only contain **one** of the meanings of the words)?\n",
    "\n",
    "**Note**: You should use the `wv_from_bin.most_similar(word)` function to get the top 10 most similar words. This function ranks all other words in the vocabulary with respect to their cosine similarity to the given word. For further assistance, please check the __[GenSim documentation](https://radimrehurek.com/gensim/models/keyedvectors.html#gensim.models.keyedvectors.FastTextKeyedVectors.most_similar)__."
   ]
  },
  {
   "cell_type": "code",
   "execution_count": 22,
   "metadata": {
    "colab": {
     "base_uri": "https://localhost:8080/"
    },
    "id": "ZAr09U-xSSuT",
    "outputId": "da8adff7-c61e-43a0-8f4b-66084b4a66b8"
   },
   "outputs": [
    {
     "data": {
      "text/plain": [
       "[('fucking', 0.6342313885688782),\n",
       " ('crap', 0.6281559467315674),\n",
       " ('fuck', 0.6150898337364197),\n",
       " ('bleep', 0.5037744045257568),\n",
       " (\"'cause\", 0.5011726021766663),\n",
       " ('kinda', 0.4975680112838745),\n",
       " ('damn', 0.4958353340625763),\n",
       " ('gonna', 0.49097180366516113),\n",
       " ('suht', 0.48986342549324036),\n",
       " ('wannasathit', 0.4866737127304077)]"
      ]
     },
     "execution_count": 22,
     "metadata": {},
     "output_type": "execute_result"
    }
   ],
   "source": [
    "# ------------------\n",
    "# Write your implementation here.\n",
    "\n",
    "wv_from_bin.most_similar('shit')\n",
    "\n",
    "# ------------------"
   ]
  },
  {
   "cell_type": "markdown",
   "metadata": {
    "id": "VdQ018tjSSuT"
   },
   "source": [
    "#### <font color=\"red\">Write your answer here.</font>\n",
    "\n",
    "Words with majority meanings will have more weights with Gloves than those with minority meanings. (see GloVe paper)\n",
    "\n",
    "$J = \\sum_{i,j=1}^{V} f(X_{ij}) \\left( \\mathbf{w}_i^T \\tilde{\\mathbf{w}}_j + b_i + \\tilde{b}_j - \\log X_{ij} \\right)^2$\r",
    "es}$\r\n",
    "s}$\r\n",
    "ases}\r\n",
    "\r\n"
   ]
  },
  {
   "cell_type": "markdown",
   "metadata": {
    "id": "VfeW-eK9SSuU"
   },
   "source": [
    "### Question 2.3: Synonyms & Antonyms (2 points) [code + written] \n",
    "\n",
    "When considering Cosine Similarity, it's often more convenient to think of Cosine Distance, which is simply 1 - Cosine Similarity.\n",
    "\n",
    "Find three words $(w_1,w_2,w_3)$ where $w_1$ and $w_2$ are synonyms and $w_1$ and $w_3$ are antonyms, but Cosine Distance $(w_1,w_3) <$ Cosine Distance $(w_1,w_2)$. \n",
    "\n",
    "As an example, $w_1$=\"happy\" is closer to $w_3$=\"sad\" than to $w_2$=\"cheerful\". Please find a different example that satisfies the above. Once you have found your example, please give a possible explanation for why this counter-intuitive result may have happened.\n",
    "\n",
    "You should use the the `wv_from_bin.distance(w1, w2)` function here in order to compute the cosine distance between two words. Please see the __[GenSim documentation](https://radimrehurek.com/gensim/models/keyedvectors.html#gensim.models.keyedvectors.FastTextKeyedVectors.distance)__ for further assistance."
   ]
  },
  {
   "cell_type": "code",
   "execution_count": 23,
   "metadata": {
    "colab": {
     "base_uri": "https://localhost:8080/"
    },
    "id": "bwlpPjpHSSuV",
    "outputId": "8c983677-b3d1-4423-d31c-da566cb522a5"
   },
   "outputs": [
    {
     "name": "stdout",
     "output_type": "stream",
     "text": [
      "0.31518179178237915\n"
     ]
    },
    {
     "data": {
      "text/plain": [
       "0.2479914426803589"
      ]
     },
     "execution_count": 23,
     "metadata": {},
     "output_type": "execute_result"
    }
   ],
   "source": [
    "# ------------------\n",
    "# Write your implementation here.\n",
    "print(wv_from_bin.distance('man', 'boy'))\n",
    "wv_from_bin.distance('man', 'woman')\n",
    "\n",
    "# ------------------"
   ]
  },
  {
   "cell_type": "markdown",
   "metadata": {
    "id": "PeIHjTFMSSuV"
   },
   "source": [
    "#### <font color=\"red\">Write your answer here.</font>\n",
    "\n",
    "Because the context words need to be taken account of. It's more likely to have 'man' and 'woman' in the same sentence than 'man' and 'boy'. "
   ]
  },
  {
   "cell_type": "markdown",
   "metadata": {
    "id": "ZxIDq26zSSuW"
   },
   "source": [
    "### Question 2.4: Analogies with Word Vectors [written] (1.5 points)\n",
    "Word vectors have been shown to *sometimes* exhibit the ability to solve analogies. \n",
    "\n",
    "As an example, for the analogy \"man : grandfather :: woman : x\" (read: man is to grandfather as woman is to x), what is x?\n",
    "\n",
    "In the cell below, we show you how to use word vectors to find x using the `most_similar` function from the __[GenSim documentation](https://radimrehurek.com/gensim/models/keyedvectors.html#gensim.models.keyedvectors.KeyedVectors.most_similar)__. The function finds words that are most similar to the words in the `positive` list and most dissimilar from the words in the `negative` list (while omitting the input words, which are often the most similar; see [this paper](https://www.aclweb.org/anthology/N18-2039.pdf)). The answer to the analogy will have the highest cosine similarity (largest returned numerical value)."
   ]
  },
  {
   "cell_type": "code",
   "execution_count": 24,
   "metadata": {
    "colab": {
     "base_uri": "https://localhost:8080/"
    },
    "id": "u0pC7H4VSSuY",
    "outputId": "a2e3a0c1-2621-4def-f00b-f3de583f86bf"
   },
   "outputs": [
    {
     "name": "stdout",
     "output_type": "stream",
     "text": [
      "[('grandmother', 0.7608445286750793),\n",
      " ('granddaughter', 0.7200808525085449),\n",
      " ('daughter', 0.7168302536010742),\n",
      " ('mother', 0.7151536345481873),\n",
      " ('niece', 0.7005682587623596),\n",
      " ('father', 0.6659887433052063),\n",
      " ('aunt', 0.6623408794403076),\n",
      " ('grandson', 0.6618767976760864),\n",
      " ('grandparents', 0.644661009311676),\n",
      " ('wife', 0.6445354223251343)]\n"
     ]
    }
   ],
   "source": [
    "# Run this cell to answer the analogy -- man : grandfather :: woman : x\n",
    "pprint.pprint(wv_from_bin.most_similar(positive=['woman', 'grandfather'], negative=['man']))"
   ]
  },
  {
   "cell_type": "markdown",
   "metadata": {
    "id": "XVv8I9WwSSuZ"
   },
   "source": [
    "Let $m$, $g$, $w$, and $x$ denote the word vectors for `man`, `grandfather`, `woman`, and the answer, respectively. Using **only** vectors $m$, $g$, $w$, and the vector arithmetic operators $+$ and $-$ in your answer, what is the expression in which we are maximizing cosine similarity with $x$?\n",
    "\n",
    "Hint: Recall that word vectors are simply multi-dimensional vectors that represent a word. It might help to draw out a 2D example using arbitrary locations of each vector. Where would `man` and `woman` lie in the coordinate plane relative to `grandfather` and the answer?"
   ]
  },
  {
   "cell_type": "markdown",
   "metadata": {
    "id": "KlUKBqtHSSuZ"
   },
   "source": [
    "#### <font color=\"red\">Write your answer here.</font>\n",
    "\n",
    "The expression is grandmother."
   ]
  },
  {
   "cell_type": "markdown",
   "metadata": {
    "id": "2rRgMca9SSua"
   },
   "source": [
    "### Question 2.5: Finding Analogies [code + written]  (1.5 points)\n",
    "a. For the previous example, it's clear that \"grandmother\" completes the analogy. But give an intuitive explanation as to why the `most_similar` function gives us words like \"granddaughter\", \"daughter\", or \"mother?"
   ]
  },
  {
   "cell_type": "markdown",
   "metadata": {
    "id": "WgYQXazQSSua"
   },
   "source": [
    "#### <font color=\"red\">Write your answer here.</font>"
   ]
  },
  {
   "cell_type": "markdown",
   "metadata": {
    "id": "p9aAUXEISSub"
   },
   "source": [
    "b. Find an example of analogy that holds according to these vectors (i.e. the intended word is ranked top). In your solution please state the full analogy in the form x:y :: a:b. If you believe the analogy is complicated, explain why the analogy holds in one or two sentences.\n",
    "\n",
    "**Note**: You may have to try many analogies to find one that works!"
   ]
  },
  {
   "cell_type": "code",
   "execution_count": 37,
   "metadata": {
    "id": "CRvYK2xifpq7"
   },
   "outputs": [
    {
     "name": "stdout",
     "output_type": "stream",
     "text": [
      "[('cub', 0.45652127265930176),\n",
      " ('franz', 0.4296393096446991),\n",
      " ('beaver', 0.4191085994243622),\n",
      " ('wigo', 0.4144548773765564),\n",
      " ('biermann', 0.4077386260032654),\n",
      " ('kohn', 0.4010116159915924),\n",
      " ('fenris', 0.3973848521709442),\n",
      " ('puppies', 0.3907608091831207),\n",
      " ('cheeked', 0.37906724214553833),\n",
      " ('otter', 0.3718506097793579)]\n"
     ]
    }
   ],
   "source": [
    "# For example: x, y, a, b = (\"\", \"\", \"\", \"\")\n",
    "# ------------------\n",
    "# Write your implementation here.\n",
    "x, y, a, b = (\"dog\", \"puppy\", \"wolf\",\"cub\")\n",
    "pprint.pprint(wv_from_bin.most_similar(positive=[a, y], negative=[x]))\n",
    "\n",
    "# ------------------\n",
    "\n",
    "# Test the solution\n",
    "assert wv_from_bin.most_similar(positive=[a, y], negative=[x])[0][0] == b"
   ]
  },
  {
   "cell_type": "markdown",
   "metadata": {
    "id": "K3QlPqAwSSub"
   },
   "source": [
    "#### <font color=\"red\">Write your answer here.</font>\n",
    "\n",
    "The puppy is the child of the dog as cub is for wolf."
   ]
  },
  {
   "cell_type": "markdown",
   "metadata": {
    "id": "SwgcEywwSSuc"
   },
   "source": [
    "### Question 2.6: Incorrect Analogy [code + written] (1.5 points)\n",
    "a. Below, we expect to see the intended analogy \"hand : glove :: foot : **sock**\", but we see an unexpected result instead. Give a potential reason as to why this particular analogy turned out the way it did?"
   ]
  },
  {
   "cell_type": "code",
   "execution_count": 38,
   "metadata": {
    "colab": {
     "base_uri": "https://localhost:8080/"
    },
    "id": "m-ykWoJoSSuc",
    "outputId": "60fa3812-3e62-429e-c309-349463c75f9e"
   },
   "outputs": [
    {
     "name": "stdout",
     "output_type": "stream",
     "text": [
      "[('45,000-square', 0.4922032654285431),\n",
      " ('15,000-square', 0.4649604558944702),\n",
      " ('10,000-square', 0.4544755816459656),\n",
      " ('6,000-square', 0.44975775480270386),\n",
      " ('3,500-square', 0.444133460521698),\n",
      " ('700-square', 0.44257497787475586),\n",
      " ('50,000-square', 0.4356396794319153),\n",
      " ('3,000-square', 0.43486514687538147),\n",
      " ('30,000-square', 0.4330596923828125),\n",
      " ('footed', 0.43236875534057617)]\n"
     ]
    }
   ],
   "source": [
    "pprint.pprint(wv_from_bin.most_similar(positive=['foot', 'glove'], negative=['hand']))"
   ]
  },
  {
   "cell_type": "markdown",
   "metadata": {
    "id": "zn4ruS8MSSud"
   },
   "source": [
    "#### <font color=\"red\">Write your answer here.</font>\n",
    "\n",
    "Because foot can be understood as a measurement and this meaning is maybe more popular in the corpus than the intended meaning."
   ]
  },
  {
   "cell_type": "markdown",
   "metadata": {
    "id": "D1gHyZt0SSud"
   },
   "source": [
    "b. Find another example of analogy that does *not* hold according to these vectors. In your solution, state the intended analogy in the form x:y :: a:b, and state the **incorrect** value of b according to the word vectors (in the previous example, this would be **'45,000-square'**)."
   ]
  },
  {
   "cell_type": "code",
   "execution_count": 43,
   "metadata": {
    "id": "ms-DTC8_ftiA"
   },
   "outputs": [
    {
     "name": "stdout",
     "output_type": "stream",
     "text": [
      "[('forces', 0.5163916349411011),\n",
      " ('nato', 0.45709750056266785),\n",
      " ('troops', 0.45216524600982666),\n",
      " ('eu', 0.43562647700309753),\n",
      " ('peacekeeping', 0.4330372214317322),\n",
      " ('deployed', 0.42554962635040283),\n",
      " ('peacekeepers', 0.4225270748138428),\n",
      " ('bosnia', 0.41703763604164124),\n",
      " ('air', 0.4152127504348755),\n",
      " ('u.n.', 0.4149591028690338)]\n"
     ]
    }
   ],
   "source": [
    "# For example: x, y, a, b = (\"\", \"\", \"\", \"\")\n",
    "# ------------------\n",
    "# Write your implementation here.\n",
    "x, y, a, b = (\"newton\", \"force\", \"pascal\", \"pressure\")\n",
    "\n",
    "# ------------------\n",
    "pprint.pprint(wv_from_bin.most_similar(positive=[a, y], negative=[x]))\n",
    "assert wv_from_bin.most_similar(positive=[a, y], negative=[x])[0][0] != b"
   ]
  },
  {
   "cell_type": "markdown",
   "metadata": {
    "id": "c4x0EHjeSSue"
   },
   "source": [
    "#### <font color=\"red\">Write your answer here.</font>\n",
    "\n",
    "We should have had 'pressure'. "
   ]
  },
  {
   "cell_type": "markdown",
   "metadata": {
    "id": "yvlycXN-SSuf"
   },
   "source": [
    "### Question 2.7: Guided Analysis of Bias in Word Vectors [written] (1 point)\n",
    "\n",
    "It's important to be cognizant of the biases (gender, race, sexual orientation etc.) implicit in our word embeddings. Bias can be dangerous because it can reinforce stereotypes through applications that employ these models.\n",
    "\n",
    "Run the cell below, to examine (a) which terms are most similar to \"man\" and \"profession\" and most dissimilar to \"woman\" and (b) which terms are most similar to \"woman\" and \"profession\" and most dissimilar to \"man\". Point out the difference between the list of female-associated words and the list of male-associated words, and explain how it is reflecting gender bias."
   ]
  },
  {
   "cell_type": "code",
   "execution_count": 39,
   "metadata": {
    "colab": {
     "base_uri": "https://localhost:8080/"
    },
    "id": "XggWA4MhSSuf",
    "outputId": "534a694b-f4fa-479e-9e7c-12b17db3abb8"
   },
   "outputs": [
    {
     "name": "stdout",
     "output_type": "stream",
     "text": [
      "[('reputation', 0.5250176787376404),\n",
      " ('professions', 0.5178037881851196),\n",
      " ('skill', 0.49046966433525085),\n",
      " ('skills', 0.49005505442619324),\n",
      " ('ethic', 0.4897659420967102),\n",
      " ('business', 0.4875852167606354),\n",
      " ('respected', 0.485920250415802),\n",
      " ('practice', 0.482104629278183),\n",
      " ('regarded', 0.4778572618961334),\n",
      " ('life', 0.4760662019252777)]\n",
      "\n",
      "[('professions', 0.5957457423210144),\n",
      " ('practitioner', 0.49884122610092163),\n",
      " ('teaching', 0.48292139172554016),\n",
      " ('nursing', 0.48211804032325745),\n",
      " ('vocation', 0.4788965880870819),\n",
      " ('teacher', 0.47160351276397705),\n",
      " ('practicing', 0.46937814354896545),\n",
      " ('educator', 0.46524327993392944),\n",
      " ('physicians', 0.4628995358943939),\n",
      " ('professionals', 0.4601394236087799)]\n"
     ]
    }
   ],
   "source": [
    "# Run this cell\n",
    "# Here `positive` indicates the list of words to be similar to and `negative` indicates the list of words to be\n",
    "# most dissimilar from.\n",
    "\n",
    "pprint.pprint(wv_from_bin.most_similar(positive=['man', 'profession'], negative=['woman']))\n",
    "print()\n",
    "pprint.pprint(wv_from_bin.most_similar(positive=['woman', 'profession'], negative=['man']))"
   ]
  },
  {
   "cell_type": "markdown",
   "metadata": {
    "id": "x4g6KbsYSSuh"
   },
   "source": [
    "#### <font color=\"red\">Write your answer here.</font>\n",
    "\n",
    "Man are more related with 'reputation', 'skill' and 'business' than woman whereas 'woman' is more related with 'teaching' and 'nursing' which are professions where they take care of people."
   ]
  },
  {
   "cell_type": "markdown",
   "metadata": {
    "id": "LxJmnS6lSSui"
   },
   "source": [
    "### Question 2.8: Independent Analysis of Bias in Word Vectors [code + written]  (1 point)\n",
    "\n",
    "Use the `most_similar` function to find another pair of analogies that demonstrates some bias is exhibited by the vectors. Please briefly explain the example of bias that you discover."
   ]
  },
  {
   "cell_type": "code",
   "execution_count": 57,
   "metadata": {
    "colab": {
     "base_uri": "https://localhost:8080/"
    },
    "id": "PZoDheIfSSui",
    "outputId": "f45fef83-ee36-4ef1-b970-775c3b40c515"
   },
   "outputs": [
    {
     "name": "stdout",
     "output_type": "stream",
     "text": [
      "[('ingenious', 0.5859429240226746),\n",
      " ('deft', 0.553001344203949),\n",
      " ('inventive', 0.5514577627182007),\n",
      " ('clumsy', 0.5228977799415588),\n",
      " ('crafty', 0.5213197469711304),\n",
      " ('brilliant', 0.5128505825996399),\n",
      " ('cunning', 0.5096694231033325),\n",
      " ('cleverly', 0.5063934922218323),\n",
      " ('smart', 0.5033373832702637),\n",
      " ('shrewd', 0.49897247552871704)]\n",
      "\n",
      "[('witty', 0.5573042631149292),\n",
      " ('deft', 0.5289188623428345),\n",
      " ('sexy', 0.5249114036560059),\n",
      " ('cute', 0.521115779876709),\n",
      " ('inventive', 0.5204869508743286),\n",
      " ('smart', 0.5134956240653992),\n",
      " ('seductive', 0.512276291847229),\n",
      " ('ingenious', 0.5120226740837097),\n",
      " ('amusing', 0.5032839179039001),\n",
      " ('imaginative', 0.4999874532222748)]\n"
     ]
    }
   ],
   "source": [
    "# ------------------\n",
    "# Write your implementation here.\n",
    "\n",
    "pprint.pprint(wv_from_bin.most_similar(positive=['man', 'clever'], negative=['woman']))\n",
    "print()\n",
    "pprint.pprint(wv_from_bin.most_similar(positive=['woman', 'clever'], negative=['man']))\n",
    "\n",
    "# ------------------"
   ]
  },
  {
   "cell_type": "markdown",
   "metadata": {
    "id": "TGOlmtJoSSuj"
   },
   "source": [
    "#### <font color=\"red\">Write your answer here.</font>\n",
    "\n",
    "'sexy' for woman ..... What a disaster"
   ]
  },
  {
   "cell_type": "markdown",
   "metadata": {
    "id": "eK2XVWzmSSuk"
   },
   "source": [
    "### Question 2.9: Thinking About Bias [written] (2 points)\n",
    "\n",
    "a. Give one explanation of how bias gets into the word vectors. Briefly describe a real-world example that demonstrates this source of bias. Your real-world example should be focused on word vectors, as opposed to bias in other AI systems (e.g., ChatGPT).\n",
    "\n",
    "\n"
   ]
  },
  {
   "cell_type": "markdown",
   "metadata": {
    "id": "19pM85fCSSuk"
   },
   "source": [
    "#### <font color=\"red\">Write your answer here.</font>\n",
    "\n",
    "If the training text contains the bias, the GloVe vectors will also reflect this bias. We associate some professions as more related to men than women. (nurse etc..)"
   ]
  },
  {
   "cell_type": "markdown",
   "metadata": {
    "id": "ILYqJZ7ASSul"
   },
   "source": [
    "b. What is one method you can use to mitigate bias exhibited by word vectors? Briefly describe a real-world example that demonstrates this method."
   ]
  },
  {
   "cell_type": "markdown",
   "metadata": {
    "id": "dnJaAB7mSSul"
   },
   "source": [
    "\n",
    "#### <font color=\"red\">Write your answer here.</font>\n",
    "\n",
    "Identify the gender subspace and remove it from the embeddings by substracting by the gender direction. ( see https://web.stanford.edu/class/archive/cs/cs224n/cs224n.1184/reports/6835575.pdf )"
   ]
  },
  {
   "cell_type": "markdown",
   "metadata": {
    "id": "dzh3eEmZSSum"
   },
   "source": [
    "# <font color=\"blue\"> Submission Instructions</font>\n",
    "\n",
    "1. Click the Save button at the top of the Jupyter Notebook.\n",
    "2. Select Cell -> All Output -> Clear. This will clear all the outputs from all cells (but will keep the content of all cells). \n",
    "2. Select Cell -> Run All. This will run all the cells in order, and will take several minutes.\n",
    "3. Once you've rerun everything, select File -> Download as -> PDF via LaTeX (If you have trouble using \"PDF via LaTex\", you can also save the webpage as pdf. <font color='blue'> Make sure all your solutions especially the coding parts are displayed in the pdf</font>, it's okay if the provided codes get cut off because lines are not wrapped in code cells).\n",
    "4. Look at the PDF file and make sure all your solutions are there, displayed correctly. The PDF is the only thing your graders will see!\n",
    "5. Submit your PDF on Gradescope."
   ]
  }
 ],
 "metadata": {
  "anaconda-cloud": {},
  "colab": {
   "provenance": []
  },
  "kernelspec": {
   "display_name": "Python 3 (ipykernel)",
   "language": "python",
   "name": "python3"
  },
  "language_info": {
   "codemirror_mode": {
    "name": "ipython",
    "version": 3
   },
   "file_extension": ".py",
   "mimetype": "text/x-python",
   "name": "python",
   "nbconvert_exporter": "python",
   "pygments_lexer": "ipython3",
   "version": "3.9.9"
  }
 },
 "nbformat": 4,
 "nbformat_minor": 4
}
